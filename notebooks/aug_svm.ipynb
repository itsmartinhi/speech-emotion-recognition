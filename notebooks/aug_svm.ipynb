{
 "cells": [
  {
   "cell_type": "code",
   "execution_count": 1,
   "metadata": {
    "collapsed": true,
    "pycharm": {
     "name": "#%%\n"
    }
   },
   "outputs": [],
   "source": [
    "from ser_helpers import augmentation\n",
    "from ser_helpers import data_manager\n",
    "import numpy as np\n",
    "from sklearn import svm, metrics\n",
    "\n",
    "EMOTIONS = ['neutral', 'calm', 'happy', 'sad', 'angry', 'fearful', 'disgust', 'surprised']\n",
    "\n",
    "def prepare_datasets(dataset):\n",
    "\n",
    "    new_X = []\n",
    "    for i in dataset:\n",
    "        mfcc = []\n",
    "        for j in i:\n",
    "            mfcc.append(j.mean())\n",
    "        new_X.append(mfcc)\n",
    "    dataset = np.array(new_X)\n",
    "\n",
    "    return dataset"
   ]
  },
  {
   "cell_type": "code",
   "execution_count": 6,
   "outputs": [],
   "source": [
    "# for i in range(1, 21):\n",
    "X_train, y_train, X_test, y_test = data_manager.get_augmented_data([augmentation.AUG_STRETCH], False)\n",
    "\n",
    "# X_train = X_train.reshape((X_train.shape[0], X_train.shape[1] * X_train.shape[2]))\n",
    "# X_test = X_test.reshape((X_test.shape[0], X_test.shape[1] * X_test.shape[2]))\n",
    "X_train = prepare_datasets(X_train)\n",
    "X_test = prepare_datasets(X_test)\n",
    "\n",
    "# clf_rbf = svm.SVC(C=5, kernel='rbf', gamma=0.001, decision_function_shape='ovo')\n",
    "clf_rbf = svm.SVC(C=5, gamma=0.001, kernel='rbf',decision_function_shape='ovo')\n",
    "clf_rbf.fit(X_train, y_train)\n",
    "\n",
    "y_pred_rbf = clf_rbf.predict(X_test)\n",
    "\n",
    "# print(\"{}: RBF Accuracy: {}\".format(i, str(round(100 * metrics.accuracy_score(y_test, y_pred_rbf), 2))))\n",
    "print(\"RBF Accuracy: {}\".format(str(round(100 * metrics.accuracy_score(y_test, y_pred_rbf), 2))))"
   ],
   "metadata": {
    "collapsed": false,
    "pycharm": {
     "name": "#%%\n"
    }
   }
  },
  {
   "cell_type": "code",
   "execution_count": null,
   "outputs": [
    {
     "name": "stdout",
     "output_type": "stream",
     "text": [
      "# Tuning hyper-parameters for precision\n",
      "\n"
     ]
    }
   ],
   "source": [
    "# from sklearn.model_selection import GridSearchCV\n",
    "# from sklearn.metrics import classification_report\n",
    "#\n",
    "# # Set the parameters by cross-validation\n",
    "# tuned_parameters = [{'kernel': ['rbf'], 'gamma': [1e-2, 1e-3, 1e-4],\n",
    "#                      'C': [1, 5, 10, 50, 100]},\n",
    "#                     # {'kernel': ['poly'], 'gamma': [1e-3, 1e-4], 'degree':[1, 10, 50],\n",
    "#                     #  'coef0': [0.0, 0.0001, 0.001, 0.01, 0.1, 1],\n",
    "#                     #  'C': [1, 10, 100]}\n",
    "#                     ]\n",
    "#\n",
    "# scores = ['precision', 'recall']\n",
    "#\n",
    "# for score in scores:\n",
    "#     print(\"# Tuning hyper-parameters for %s\" % score)\n",
    "#     print()\n",
    "#\n",
    "#     clf = GridSearchCV(\n",
    "#         svm.SVC(), tuned_parameters, scoring='%s_macro' % score\n",
    "#     )\n",
    "#     clf.fit(X_train, y_train)\n",
    "#\n",
    "#     print(\"Best parameters set found on development set:\")\n",
    "#     print()\n",
    "#     print(clf.best_params_)\n",
    "#     print()\n",
    "#     print(\"Grid scores on development set:\")\n",
    "#     print()\n",
    "#     means = clf.cv_results_['mean_test_score']\n",
    "#     stds = clf.cv_results_['std_test_score']\n",
    "#     for mean, std, params in zip(means, stds, clf.cv_results_['params']):\n",
    "#         print(\"%0.3f (+/-%0.03f) for %r\"\n",
    "#               % (mean, std * 2, params))\n",
    "#     print()\n",
    "#\n",
    "#     print(\"Detailed classification report:\")\n",
    "#     print()\n",
    "#     print(\"The model is trained on the full development set.\")\n",
    "#     print(\"The scores are computed on the full evaluation set.\")\n",
    "#     print()\n",
    "#     y_true, y_pred = y_test, clf.predict(X_test)\n",
    "#     print(classification_report(y_true, y_pred))\n",
    "#     print()"
   ],
   "metadata": {
    "collapsed": false,
    "pycharm": {
     "name": "#%%\n",
     "is_executing": true
    }
   }
  }
 ],
 "metadata": {
  "kernelspec": {
   "display_name": "Python 3",
   "language": "python",
   "name": "python3"
  },
  "language_info": {
   "codemirror_mode": {
    "name": "ipython",
    "version": 2
   },
   "file_extension": ".py",
   "mimetype": "text/x-python",
   "name": "python",
   "nbconvert_exporter": "python",
   "pygments_lexer": "ipython2",
   "version": "2.7.6"
  }
 },
 "nbformat": 4,
 "nbformat_minor": 0
}