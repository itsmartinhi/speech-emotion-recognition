{
 "cells": [
  {
   "cell_type": "code",
   "execution_count": 1,
   "metadata": {
    "collapsed": true,
    "pycharm": {
     "name": "#%%\n"
    }
   },
   "outputs": [],
   "source": [
    "import os\n",
    "\n",
    "import librosa, librosa.display\n",
    "import IPython.display as ipd\n",
    "from random import random\n",
    "\n",
    "import numpy as np\n",
    "import pandas as pd\n",
    "import matplotlib.pyplot as plt\n",
    "\n",
    "import tensorflow as tf\n",
    "import tensorflow.keras as keras\n",
    "\n",
    "from scipy import signal\n",
    "from sklearn.model_selection import train_test_split\n",
    "from tqdm import tqdm\n",
    "\n",
    "PROCESSED_DATA_PICKLE_PATH = '../data/df_normal.pkl'\n",
    "\n",
    "EMOTIONS = ['neutral', 'calm', 'happy', 'sad', 'angry', 'fearful', 'disgust', 'surprised']\n",
    "\n",
    "MFCC_LENGTH = 125\n"
   ]
  },
  {
   "cell_type": "code",
   "execution_count": 2,
   "outputs": [],
   "source": [
    "def load_data(data_path):\n",
    "    df = pd.read_pickle(data_path)\n",
    "\n",
    "    # clean up data\n",
    "    # vals = []\n",
    "    # for i, val in enumerate(df[\"mfcc\"].to_numpy()):\n",
    "    #     if len(val) < MFCC_LENGTH:\n",
    "    #         vals.append(i)\n",
    "    #\n",
    "    # df = df.drop(vals)\n",
    "    # df = df.reset_index(drop=True)\n",
    "\n",
    "    X = np.stack(df[\"mfcc\"].to_numpy())\n",
    "    y = np.stack(df[\"emotion\"].to_numpy())\n",
    "\n",
    "    return X, y"
   ],
   "metadata": {
    "collapsed": false,
    "pycharm": {
     "name": "#%%\n"
    }
   }
  },
  {
   "cell_type": "code",
   "execution_count": 3,
   "outputs": [],
   "source": [
    "def prepare_datasets(test_size, validation_size):\n",
    "\n",
    "    # load data\n",
    "    X, y = load_data(PROCESSED_DATA_PICKLE_PATH)\n",
    "\n",
    "    # create train/test split\n",
    "    X_train, X_test, y_train, y_test = train_test_split(X, y, test_size=test_size)\n",
    "\n",
    "    # create train/validation split\n",
    "    X_train, X_validation, y_train, y_validation = train_test_split(X_train, y_train, test_size=validation_size)\n",
    "\n",
    "    # 3d array -> (130, 13, 1)\n",
    "    X_train = X_train[..., np.newaxis] # 4d array -> (number_samples, 130, 13, 1)\n",
    "    X_validation = X_validation[..., np.newaxis]\n",
    "    X_test = X_test[..., np.newaxis]\n",
    "\n",
    "    return X_train, X_validation, X_test, y_train, y_validation, y_test\n",
    "\n",
    "# X_train, X_validation, X_test, y_train, y_validation, y_test = prepare_datasets(0.25, 0.2)\n",
    "\n",
    "\n",
    "\n",
    "data_df = pd.read_pickle(PROCESSED_DATA_PICKLE_PATH)\n",
    "\n",
    "df_train, df_test = train_test_split(data_df, test_size=0.2, random_state=42, shuffle=True)\n",
    "\n",
    "X_train = np.stack(df_train['mfcc'].to_numpy())\n",
    "X_train = X_train[..., np.newaxis]\n",
    "y_train = np.stack(df_train['emotion'].to_numpy())\n",
    "\n",
    "X_test = np.stack(df_test['mfcc'].to_numpy())\n",
    "X_test = X_test[..., np.newaxis]\n",
    "y_test = np.stack(df_test['emotion'].to_numpy())"
   ],
   "metadata": {
    "collapsed": false,
    "pycharm": {
     "name": "#%%\n"
    }
   }
  },
  {
   "cell_type": "code",
   "execution_count": 4,
   "outputs": [
    {
     "name": "stdout",
     "output_type": "stream",
     "text": [
      "Model: \"sequential\"\n",
      "_________________________________________________________________\n",
      "Layer (type)                 Output Shape              Param #   \n",
      "=================================================================\n",
      "conv2d (Conv2D)              (None, 129, 11, 32)       320       \n",
      "_________________________________________________________________\n",
      "max_pooling2d (MaxPooling2D) (None, 65, 6, 32)         0         \n",
      "_________________________________________________________________\n",
      "conv2d_1 (Conv2D)            (None, 63, 4, 32)         9248      \n",
      "_________________________________________________________________\n",
      "max_pooling2d_1 (MaxPooling2 (None, 32, 2, 32)         0         \n",
      "_________________________________________________________________\n",
      "conv2d_2 (Conv2D)            (None, 31, 1, 32)         4128      \n",
      "_________________________________________________________________\n",
      "max_pooling2d_2 (MaxPooling2 (None, 16, 1, 32)         0         \n",
      "_________________________________________________________________\n",
      "flatten (Flatten)            (None, 512)               0         \n",
      "_________________________________________________________________\n",
      "dense (Dense)                (None, 64)                32832     \n",
      "_________________________________________________________________\n",
      "dense_1 (Dense)              (None, 8)                 520       \n",
      "=================================================================\n",
      "Total params: 47,048\n",
      "Trainable params: 47,048\n",
      "Non-trainable params: 0\n",
      "_________________________________________________________________\n",
      "Train on 1152 samples, validate on 288 samples\n",
      "Epoch 1/50\n",
      "1152/1152 - 4s - loss: 6.4080 - accuracy: 0.1519 - val_loss: 2.8378 - val_accuracy: 0.1667\n",
      "Epoch 2/50\n",
      "1152/1152 - 0s - loss: 2.4641 - accuracy: 0.2118 - val_loss: 2.3588 - val_accuracy: 0.2014\n",
      "Epoch 3/50\n",
      "1152/1152 - 0s - loss: 2.1422 - accuracy: 0.2474 - val_loss: 2.2050 - val_accuracy: 0.2535\n",
      "Epoch 4/50\n",
      "1152/1152 - 0s - loss: 1.9756 - accuracy: 0.2891 - val_loss: 2.0416 - val_accuracy: 0.3194\n",
      "Epoch 5/50\n",
      "1152/1152 - 0s - loss: 1.8578 - accuracy: 0.3220 - val_loss: 1.9273 - val_accuracy: 0.3438\n",
      "Epoch 6/50\n",
      "1152/1152 - 0s - loss: 1.7544 - accuracy: 0.3559 - val_loss: 1.9748 - val_accuracy: 0.2917\n",
      "Epoch 7/50\n",
      "1152/1152 - 0s - loss: 1.6777 - accuracy: 0.3898 - val_loss: 1.8967 - val_accuracy: 0.2708\n",
      "Epoch 8/50\n",
      "1152/1152 - 0s - loss: 1.6031 - accuracy: 0.4193 - val_loss: 1.8622 - val_accuracy: 0.2917\n",
      "Epoch 9/50\n",
      "1152/1152 - 0s - loss: 1.5501 - accuracy: 0.4557 - val_loss: 1.8226 - val_accuracy: 0.3542\n",
      "Epoch 10/50\n",
      "1152/1152 - 0s - loss: 1.4761 - accuracy: 0.4644 - val_loss: 1.7108 - val_accuracy: 0.3715\n",
      "Epoch 11/50\n",
      "1152/1152 - 0s - loss: 1.4084 - accuracy: 0.4948 - val_loss: 1.7081 - val_accuracy: 0.3819\n",
      "Epoch 12/50\n",
      "1152/1152 - 0s - loss: 1.3517 - accuracy: 0.5165 - val_loss: 1.6840 - val_accuracy: 0.3542\n",
      "Epoch 13/50\n",
      "1152/1152 - 0s - loss: 1.2876 - accuracy: 0.5521 - val_loss: 1.6073 - val_accuracy: 0.4028\n",
      "Epoch 14/50\n",
      "1152/1152 - 0s - loss: 1.2588 - accuracy: 0.5460 - val_loss: 1.6614 - val_accuracy: 0.3854\n",
      "Epoch 15/50\n",
      "1152/1152 - 0s - loss: 1.2441 - accuracy: 0.5590 - val_loss: 1.5531 - val_accuracy: 0.4410\n",
      "Epoch 16/50\n",
      "1152/1152 - 0s - loss: 1.1754 - accuracy: 0.5842 - val_loss: 1.6437 - val_accuracy: 0.3924\n",
      "Epoch 17/50\n",
      "1152/1152 - 0s - loss: 1.1105 - accuracy: 0.6137 - val_loss: 1.5816 - val_accuracy: 0.4167\n",
      "Epoch 18/50\n",
      "1152/1152 - 0s - loss: 1.0694 - accuracy: 0.6250 - val_loss: 1.5468 - val_accuracy: 0.4444\n",
      "Epoch 19/50\n",
      "1152/1152 - 0s - loss: 1.0266 - accuracy: 0.6363 - val_loss: 1.5914 - val_accuracy: 0.4340\n",
      "Epoch 20/50\n",
      "1152/1152 - 0s - loss: 0.9676 - accuracy: 0.6632 - val_loss: 1.5589 - val_accuracy: 0.4340\n",
      "Epoch 21/50\n",
      "1152/1152 - 0s - loss: 0.9158 - accuracy: 0.6832 - val_loss: 1.4697 - val_accuracy: 0.4583\n",
      "Epoch 22/50\n",
      "1152/1152 - 0s - loss: 0.9023 - accuracy: 0.7075 - val_loss: 1.5080 - val_accuracy: 0.4514\n",
      "Epoch 23/50\n",
      "1152/1152 - 0s - loss: 0.8366 - accuracy: 0.7101 - val_loss: 1.4701 - val_accuracy: 0.4688\n",
      "Epoch 24/50\n",
      "1152/1152 - 0s - loss: 0.8102 - accuracy: 0.7318 - val_loss: 1.4346 - val_accuracy: 0.4618\n",
      "Epoch 25/50\n",
      "1152/1152 - 0s - loss: 0.7846 - accuracy: 0.7309 - val_loss: 1.5048 - val_accuracy: 0.4340\n",
      "Epoch 26/50\n",
      "1152/1152 - 0s - loss: 0.7315 - accuracy: 0.7648 - val_loss: 1.4545 - val_accuracy: 0.4826\n",
      "Epoch 27/50\n",
      "1152/1152 - 0s - loss: 0.6999 - accuracy: 0.7752 - val_loss: 1.4822 - val_accuracy: 0.4688\n",
      "Epoch 28/50\n",
      "1152/1152 - 0s - loss: 0.6788 - accuracy: 0.7839 - val_loss: 1.4886 - val_accuracy: 0.4618\n",
      "Epoch 29/50\n",
      "1152/1152 - 0s - loss: 0.6405 - accuracy: 0.8003 - val_loss: 1.4100 - val_accuracy: 0.5035\n",
      "Epoch 30/50\n",
      "1152/1152 - 0s - loss: 0.6266 - accuracy: 0.8134 - val_loss: 1.3916 - val_accuracy: 0.4931\n",
      "Epoch 31/50\n",
      "1152/1152 - 0s - loss: 0.5742 - accuracy: 0.8220 - val_loss: 1.4457 - val_accuracy: 0.4792\n",
      "Epoch 32/50\n",
      "1152/1152 - 0s - loss: 0.5547 - accuracy: 0.8333 - val_loss: 1.4437 - val_accuracy: 0.4896\n",
      "Epoch 33/50\n",
      "1152/1152 - 0s - loss: 0.5384 - accuracy: 0.8420 - val_loss: 1.3883 - val_accuracy: 0.5104\n",
      "Epoch 34/50\n",
      "1152/1152 - 0s - loss: 0.5104 - accuracy: 0.8490 - val_loss: 1.4831 - val_accuracy: 0.4792\n",
      "Epoch 35/50\n",
      "1152/1152 - 0s - loss: 0.4859 - accuracy: 0.8498 - val_loss: 1.3775 - val_accuracy: 0.5312\n",
      "Epoch 36/50\n",
      "1152/1152 - 0s - loss: 0.4438 - accuracy: 0.8837 - val_loss: 1.4460 - val_accuracy: 0.5000\n",
      "Epoch 37/50\n",
      "1152/1152 - 1s - loss: 0.4319 - accuracy: 0.8802 - val_loss: 1.4054 - val_accuracy: 0.5000\n",
      "Epoch 38/50\n",
      "1152/1152 - 3s - loss: 0.4167 - accuracy: 0.8837 - val_loss: 1.3739 - val_accuracy: 0.5312\n",
      "Epoch 39/50\n",
      "1152/1152 - 3s - loss: 0.4002 - accuracy: 0.8950 - val_loss: 1.4738 - val_accuracy: 0.5104\n",
      "Epoch 40/50\n",
      "1152/1152 - 3s - loss: 0.3695 - accuracy: 0.9045 - val_loss: 1.4198 - val_accuracy: 0.5208\n",
      "Epoch 41/50\n",
      "1152/1152 - 9s - loss: 0.3498 - accuracy: 0.9115 - val_loss: 1.4903 - val_accuracy: 0.5278\n",
      "Epoch 42/50\n",
      "1152/1152 - 3s - loss: 0.3260 - accuracy: 0.9227 - val_loss: 1.4631 - val_accuracy: 0.5104\n",
      "Epoch 43/50\n",
      "1152/1152 - 2s - loss: 0.3059 - accuracy: 0.9314 - val_loss: 1.3606 - val_accuracy: 0.5590\n",
      "Epoch 44/50\n",
      "1152/1152 - 2s - loss: 0.2912 - accuracy: 0.9349 - val_loss: 1.4341 - val_accuracy: 0.5486\n",
      "Epoch 45/50\n",
      "1152/1152 - 2s - loss: 0.2744 - accuracy: 0.9366 - val_loss: 1.5424 - val_accuracy: 0.5382\n",
      "Epoch 46/50\n",
      "1152/1152 - 2s - loss: 0.2593 - accuracy: 0.9462 - val_loss: 1.4441 - val_accuracy: 0.5382\n",
      "Epoch 47/50\n",
      "1152/1152 - 2s - loss: 0.2353 - accuracy: 0.9453 - val_loss: 1.3964 - val_accuracy: 0.5312\n",
      "Epoch 48/50\n",
      "1152/1152 - 2s - loss: 0.2436 - accuracy: 0.9497 - val_loss: 1.4595 - val_accuracy: 0.5521\n",
      "Epoch 49/50\n",
      "1152/1152 - 2s - loss: 0.2307 - accuracy: 0.9575 - val_loss: 1.4202 - val_accuracy: 0.5556\n",
      "Epoch 50/50\n",
      "1152/1152 - 1s - loss: 0.2022 - accuracy: 0.9714 - val_loss: 1.4526 - val_accuracy: 0.5694\n",
      "288/288 [==============================] - 0s 792us/sample - loss: 1.4526 - accuracy: 0.5694\b\b\b\b\b\b\b\b\b\b\b\b\b\b\b\b\b\b\b\b\b\b\b\b\b\b\b\b\b\b\b\b\b\b\b\b\b\b\b\b\b\b\b\b\b\b\b\b\b\b\b\b\b\b\b\b\b\b\b\b\b\b\b\b\b\b\b\b\b\b\b\b\b\b\b\b\n",
      "Accuracy on test set is: 0.5694444179534912\n"
     ]
    }
   ],
   "source": [
    "def build_model(input_shape):\n",
    "\n",
    "    # create model\n",
    "    model = keras.Sequential()\n",
    "\n",
    "    # 1st conv layer\n",
    "    model.add(keras.layers.Conv2D(32, (3, 3), activation='relu', input_shape=input_shape))\n",
    "    model.add(keras.layers.MaxPool2D((3, 3), strides=(2, 2), padding='same'))\n",
    "    # model.add(keras.layers.BatchNormalization())\n",
    "\n",
    "    # 2nd conv layer\n",
    "    model.add(keras.layers.Conv2D(32, (3, 3), activation='relu', input_shape=input_shape))\n",
    "    model.add(keras.layers.MaxPool2D((3, 3), strides=(2, 2), padding='same'))\n",
    "    # model.add(keras.layers.BatchNormalization())\n",
    "\n",
    "    # 3rd conv layer\n",
    "    model.add(keras.layers.Conv2D(32, (2, 2), activation='relu', input_shape=input_shape))\n",
    "    model.add(keras.layers.MaxPool2D((2, 2), strides=(2, 2), padding='same'))\n",
    "    # model.add(keras.layers.BatchNormalization())\n",
    "\n",
    "    # flatten the output and feed it into dense layer\n",
    "    model.add(keras.layers.Flatten())\n",
    "    model.add(keras.layers.Dense(64, activation='relu'))\n",
    "    # model.add(keras.layers.Dropout(0.3))\n",
    "\n",
    "    # output layer\n",
    "    model.add(keras.layers.Dense(8, activation='softmax'))\n",
    "\n",
    "    return model\n",
    "\n",
    "input_shape = (X_train.shape[1], X_train.shape[2], X_train.shape[3])\n",
    "model = build_model(input_shape)\n",
    "\n",
    "# compile network\n",
    "optimizer = keras.optimizers.Adam(learning_rate=0.0001)\n",
    "model.compile(optimizer=optimizer, loss=\"sparse_categorical_crossentropy\", metrics=[\"accuracy\"])\n",
    "\n",
    "model.summary()\n",
    "\n",
    "history = model.fit(\n",
    "    X_train,\n",
    "    y_train,\n",
    "    # validation_data=(X_validation, y_validation),\n",
    "    validation_data=(X_test, y_test),\n",
    "    epochs=50,\n",
    "    batch_size=16,\n",
    "    verbose=2\n",
    ")\n",
    "\n",
    "# evaluate the CNN on the test set\n",
    "test_error, test_accuracy = model.evaluate(X_test, y_test, verbose=1)\n",
    "print(\"Accuracy on test set is: {}\".format(test_accuracy))"
   ],
   "metadata": {
    "collapsed": false,
    "pycharm": {
     "name": "#%%\n"
    }
   }
  },
  {
   "cell_type": "code",
   "execution_count": 5,
   "outputs": [],
   "source": [
    "## calc avg performance\n",
    "#\n",
    "# acc_list = []\n",
    "#\n",
    "# for i in range(1, 11):\n",
    "#     input_shape = (X_train.shape[1], X_train.shape[2], X_train.shape[3])\n",
    "#     model = build_model(input_shape)\n",
    "#\n",
    "#     # compile network\n",
    "#     optimizer = keras.optimizers.Adam(learning_rate=0.0001)\n",
    "#     model.compile(optimizer=optimizer, loss=\"sparse_categorical_crossentropy\", metrics=[\"accuracy\"])\n",
    "#\n",
    "#     # model.summary()\n",
    "#\n",
    "#     history = model.fit(\n",
    "#         X_train,\n",
    "#         y_train,\n",
    "#         # validation_data=(X_validation, y_validation),\n",
    "#         validation_data=(X_test, y_test),\n",
    "#         epochs=50,\n",
    "#         batch_size=16,\n",
    "#         verbose=0\n",
    "#     )\n",
    "#\n",
    "#     # evaluate the CNN on the test set\n",
    "#     test_error, test_accuracy = model.evaluate(X_test, y_test, verbose=1)\n",
    "#     print(\"Accuracy on test set is: {}\".format(test_accuracy))\n",
    "#\n",
    "#     acc_list.append(round(test_accuracy, 2))"
   ],
   "metadata": {
    "collapsed": false,
    "pycharm": {
     "name": "#%%\n"
    }
   }
  },
  {
   "cell_type": "code",
   "execution_count": 6,
   "outputs": [
    {
     "name": "stdout",
     "output_type": "stream",
     "text": [
      "Expected Emotion: sad, Predicted Emotion: fearful\n"
     ]
    }
   ],
   "source": [
    "def predict(model, X, y):\n",
    "\n",
    "    X = X[np.newaxis, ...]\n",
    "\n",
    "    # prediction = [ [0.1, 0.2, ...] ]\n",
    "    prediction = model.predict_classes(X)[0] # X -> (130, 13, 1)\n",
    "\n",
    "    print(\"Expected Emotion: {}, Predicted Emotion: {}\".format(EMOTIONS[y], EMOTIONS[prediction]))\n",
    "\n",
    "\n",
    "# make prediction on a sample\n",
    "X = X_test[69]\n",
    "y = y_test[69]\n",
    "predict(model, X, y)"
   ],
   "metadata": {
    "collapsed": false,
    "pycharm": {
     "name": "#%%\n"
    }
   }
  },
  {
   "cell_type": "code",
   "execution_count": 2,
   "outputs": [],
   "source": [
    "def plot_history(history):\n",
    "\n",
    "    fig, axs = plt.subplots(2)\n",
    "\n",
    "    # create accuracy subplot\n",
    "    axs[0].plot(history.history[\"accuracy\"], label=\"train accuracy\")\n",
    "    axs[0].plot(history.history[\"val_accuracy\"], label=\"test accuracy\")\n",
    "    axs[0].set_ylabel(\"Accuracy\")\n",
    "    axs[0].legend(loc=\"lower right\")\n",
    "    axs[0].set_title(\"Accuracy eval\")\n",
    "\n",
    "    # create error subplot\n",
    "    axs[1].plot(history.history[\"loss\"], label=\"train error\")\n",
    "    axs[1].plot(history.history[\"val_loss\"], label=\"test error\")\n",
    "    axs[1].set_ylabel(\"Error\")\n",
    "    axs[1].set_xlabel(\"Epoch\")\n",
    "    axs[1].legend(loc=\"upper right\")\n",
    "    axs[1].set_title(\"Error eval\")\n",
    "\n",
    "    plt.show()"
   ],
   "metadata": {
    "collapsed": false,
    "pycharm": {
     "name": "#%%\n"
    }
   }
  },
  {
   "cell_type": "code",
   "execution_count": 8,
   "outputs": [
    {
     "data": {
      "text/plain": "<Figure size 432x288 with 2 Axes>",
      "image/png": "[encoded data removed]"
     },
     "metadata": {
      "needs_background": "light"
     },
     "output_type": "display_data"
    }
   ],
   "source": [
    "plot_history(history)\n"
   ],
   "metadata": {
    "collapsed": false,
    "pycharm": {
     "name": "#%%\n"
    }
   }
  }
 ],
 "metadata": {
  "kernelspec": {
   "display_name": "Python 3",
   "language": "python",
   "name": "python3"
  },
  "language_info": {
   "codemirror_mode": {
    "name": "ipython",
    "version": 2
   },
   "file_extension": ".py",
   "mimetype": "text/x-python",
   "name": "python",
   "nbconvert_exporter": "python",
   "pygments_lexer": "ipython2",
   "version": "2.7.6"
  }
 },
 "nbformat": 4,
 "nbformat_minor": 0
}