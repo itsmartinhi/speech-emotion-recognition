{
 "cells": [
  {
   "cell_type": "markdown",
   "metadata": {},
   "source": [
    "# Speech Emotion Recognition\n",
    "\n",
    "## unoptimized MLP"
   ]
  },
  {
   "cell_type": "code",
   "execution_count": 1,
   "metadata": {
    "pycharm": {
     "name": "#%%\n"
    }
   },
   "outputs": [],
   "source": [
    "import numpy as np\n",
    "import matplotlib.pyplot as plt\n",
    "import tensorflow.keras as keras\n",
    "from sklearn.model_selection import train_test_split\n",
    "from ser_helpers import data_manager as dm\n",
    "import pandas as pd"
   ]
  },
  {
   "cell_type": "markdown",
   "source": [
    "### Loading Dataframe"
   ],
   "metadata": {
    "collapsed": false
   }
  },
  {
   "cell_type": "code",
   "execution_count": 2,
   "outputs": [],
   "source": [
    "data_df = dm.load_df(dm.PATH_DF_NORMAL)\n",
    "\n",
    "# check if all inputs (mffcs) have the same length\n",
    "inputs = np.stack(data_df[\"mfcc\"].to_numpy())\n",
    "n = len(inputs[0])\n",
    "if not all(len(i) == n for i in inputs):\n",
    "    raise Exception('Not all inputs have an equal length!')"
   ],
   "metadata": {
    "collapsed": false,
    "pycharm": {
     "name": "#%%\n"
    }
   }
  },
  {
   "cell_type": "markdown",
   "source": [
    "### Split Data"
   ],
   "metadata": {
    "collapsed": false
   }
  },
  {
   "cell_type": "code",
   "execution_count": 3,
   "outputs": [],
   "source": [
    "# no augmentation\n",
    "\n",
    "df_train, df_test = train_test_split(data_df, test_size=0.2, random_state=42, shuffle=True)\n",
    "\n",
    "inputs_train = np.stack(df_train['mfcc'].to_numpy())\n",
    "targets_train = np.stack(df_train['emotion'].to_numpy())\n",
    "\n",
    "inputs_test = np.stack(df_test['mfcc'].to_numpy())\n",
    "targets_test = np.stack(df_test['emotion'].to_numpy())"
   ],
   "metadata": {
    "collapsed": false,
    "pycharm": {
     "name": "#%%\n"
    }
   }
  },
  {
   "cell_type": "code",
   "execution_count": 4,
   "metadata": {
    "pycharm": {
     "name": "#%%\n"
    }
   },
   "outputs": [],
   "source": [
    "def build_model():\n",
    "    # build the network architecture\n",
    "    model = keras.Sequential([\n",
    "        # input layer\n",
    "        keras.layers.Flatten(input_shape=(inputs.shape[1], inputs.shape[2])),\n",
    "\n",
    "        # 1st hidden layer\n",
    "        keras.layers.Dense(512, activation=\"relu\"),\n",
    "\n",
    "        # 2nd hidden layer\n",
    "        keras.layers.Dense(256, activation=\"relu\"),\n",
    "\n",
    "        # 3rd hidden layer\n",
    "        keras.layers.Dense(64, activation=\"relu\"),\n",
    "\n",
    "        # output layer\n",
    "        keras.layers.Dense(8, activation=\"softmax\")\n",
    "    ])\n",
    "    return model"
   ]
  },
  {
   "cell_type": "code",
   "execution_count": 5,
   "outputs": [
    {
     "name": "stdout",
     "output_type": "stream",
     "text": [
      "Model: \"sequential\"\n",
      "_________________________________________________________________\n",
      "Layer (type)                 Output Shape              Param #   \n",
      "=================================================================\n",
      "flatten (Flatten)            (None, 1703)              0         \n",
      "_________________________________________________________________\n",
      "dense (Dense)                (None, 512)               872448    \n",
      "_________________________________________________________________\n",
      "dense_1 (Dense)              (None, 256)               131328    \n",
      "_________________________________________________________________\n",
      "dense_2 (Dense)              (None, 64)                16448     \n",
      "_________________________________________________________________\n",
      "dense_3 (Dense)              (None, 8)                 520       \n",
      "=================================================================\n",
      "Total params: 1,020,744\n",
      "Trainable params: 1,020,744\n",
      "Non-trainable params: 0\n",
      "_________________________________________________________________\n",
      "Train on 1152 samples, validate on 288 samples\n",
      "Epoch 1/100\n",
      "1152/1152 [==============================] - 1s 635us/sample - loss: 63.5798 - accuracy: 0.1580 - val_loss: 32.9394 - val_accuracy: 0.2049\b\b\b\b\b\b\b\b\b\b\b\b\b\b\b\b\b\b\b\b\b\b\b\b\b\b\b\b\b\b\b\b\b\b\b\b\b\b\b\b\b\b\b\b\b\b\b\b\b\b\b\b\b\b\b\b\b\b\b\b\b\b\b\b\b\b\b\b\b\b\b\b\b\b\b\b\b\b\b\b\b\b\b\b\b\b\b\b\b\b\b\b\b\b\b\b\b\b\b\b\b\b\b\b\b\b\b\b\b\b\b\b\b\b\b\b\b\b\b\b\b\b\b\b\b\n",
      "Epoch 2/100\n",
      "1152/1152 [==============================] - 0s 60us/sample - loss: 21.6807 - accuracy: 0.2023 - val_loss: 13.8697 - val_accuracy: 0.2778\b\b\b\b\b\b\b\b\b\b\b\b\b\b\b\b\b\b\b\b\b\b\b\b\b\b\b\b\b\b\b\b\b\b\b\b\b\n",
      "Epoch 3/100\n",
      "1152/1152 [==============================] - 0s 56us/sample - loss: 12.0391 - accuracy: 0.3160 - val_loss: 11.6769 - val_accuracy: 0.3056\b\b\b\b\b\b\b\b\b\b\b\b\b\b\b\b\b\b\b\b\b\b\b\b\b\b\b\b\b\b\b\b\b\b\b\b\b\n",
      "Epoch 4/100\n",
      "1152/1152 [==============================] - 0s 82us/sample - loss: 8.4875 - accuracy: 0.3915 - val_loss: 10.7975 - val_accuracy: 0.3229\b\b\b\b\b\b\b\b\b\b\b\b\b\b\b\b\b\b\b\b\b\b\b\b\b\b\b\b\b\b\b\b\b\b\b\b\b\b\b\b\b\b\b\b\b\b\b\b\b\b\b\b\b\b\b\b\b\b\b\b\b\b\b\b\b\b\b\b\b\b\b\b\b\b\b\b\b\b\b\b\b\b\b\b\b\b\b\b\b\b\b\b\b\b\b\b\b\b\b\b\b\b\b\b\b\b\b\b\b\b\b\b\b\b\b\b\b\b\b\b\b\b\b\b\n",
      "Epoch 5/100\n",
      "1152/1152 [==============================] - 0s 62us/sample - loss: 6.5893 - accuracy: 0.4271 - val_loss: 8.2801 - val_accuracy: 0.3785\b\b\b\b\b\b\b\b\b\b\b\b\b\b\b\b\b\b\b\b\b\b\b\b\b\b\b\b\b\b\b\b\b\b\b\b\b\n",
      "Epoch 6/100\n",
      "1152/1152 [==============================] - 0s 63us/sample - loss: 4.9132 - accuracy: 0.4809 - val_loss: 7.0524 - val_accuracy: 0.3785\b\b\b\b\b\b\b\b\b\b\b\b\b\b\b\b\b\b\b\b\b\b\b\b\b\b\b\b\b\b\b\b\b\b\b\b\b\n",
      "Epoch 7/100\n",
      "1152/1152 [==============================] - 0s 55us/sample - loss: 4.1246 - accuracy: 0.5226 - val_loss: 6.7760 - val_accuracy: 0.3993\b\b\b\b\b\b\b\b\b\b\b\b\b\b\b\b\b\b\b\b\b\b\b\b\b\b\b\b\b\b\b\b\b\b\b\b\b\n",
      "Epoch 8/100\n",
      "1152/1152 [==============================] - 0s 63us/sample - loss: 3.4427 - accuracy: 0.5477 - val_loss: 6.9785 - val_accuracy: 0.3819\b\b\b\b\b\b\b\b\b\b\b\b\b\b\b\b\b\b\b\b\b\b\b\b\b\b\b\b\b\b\b\b\b\b\b\b\b\n",
      "Epoch 9/100\n",
      "1152/1152 [==============================] - 0s 58us/sample - loss: 3.1212 - accuracy: 0.5694 - val_loss: 6.9047 - val_accuracy: 0.4271\b\b\b\b\b\b\b\b\b\b\b\b\b\b\b\b\b\b\b\b\b\b\b\b\b\b\b\b\b\b\b\b\b\b\b\b\b\n",
      "Epoch 10/100\n",
      "1152/1152 [==============================] - 0s 56us/sample - loss: 2.7186 - accuracy: 0.6155 - val_loss: 6.4191 - val_accuracy: 0.4375\b\b\b\b\b\b\b\b\b\b\b\b\b\b\b\b\b\b\b\b\b\b\b\b\b\b\b\b\b\b\b\b\b\b\b\b\b\n",
      "Epoch 11/100\n",
      "1152/1152 [==============================] - 0s 56us/sample - loss: 2.0050 - accuracy: 0.6693 - val_loss: 6.9426 - val_accuracy: 0.3889\b\b\b\b\b\b\b\b\b\b\b\b\b\b\b\b\b\b\b\b\b\b\b\b\b\b\b\b\b\b\b\b\b\b\b\b\b\n",
      "Epoch 12/100\n",
      "1152/1152 [==============================] - 0s 55us/sample - loss: 1.6119 - accuracy: 0.7040 - val_loss: 6.1938 - val_accuracy: 0.4201\b\b\b\b\b\b\b\b\b\b\b\b\b\b\b\b\b\b\b\b\b\b\b\b\b\b\b\b\b\b\b\b\b\b\b\b\b\n",
      "Epoch 13/100\n",
      "1152/1152 [==============================] - 0s 69us/sample - loss: 1.3861 - accuracy: 0.7326 - val_loss: 6.0430 - val_accuracy: 0.4236\b\b\b\b\b\b\b\b\b\b\b\b\b\b\b\b\b\b\b\b\b\b\b\b\b\b\b\b\b\b\b\b\b\b\b\b\b\b\b\b\b\b\b\b\b\b\b\b\b\b\b\b\b\b\b\b\b\b\b\b\b\b\b\b\b\b\b\b\b\b\b\b\b\b\b\b\b\b\b\b\b\b\b\b\b\b\b\b\b\b\b\b\b\b\b\b\b\b\b\b\b\b\b\b\b\b\b\b\b\b\b\b\b\b\b\b\b\b\b\b\b\b\b\n",
      "Epoch 14/100\n",
      "1152/1152 [==============================] - 0s 72us/sample - loss: 1.1456 - accuracy: 0.7691 - val_loss: 6.2792 - val_accuracy: 0.4201\b\b\b\b\b\b\b\b\b\b\b\b\b\b\b\b\b\b\b\b\b\b\b\b\b\b\b\b\b\b\b\b\b\b\b\b\b\b\b\b\b\b\b\b\b\b\b\b\b\b\b\b\b\b\b\b\b\b\b\b\b\b\b\b\b\b\b\b\b\b\b\b\b\b\b\b\b\b\b\b\b\b\b\b\b\b\b\b\b\b\b\b\b\b\b\b\b\b\b\b\b\b\b\b\b\b\b\b\b\b\b\b\b\b\b\b\b\b\b\b\b\b\b\n",
      "Epoch 15/100\n",
      "1152/1152 [==============================] - 0s 69us/sample - loss: 1.0013 - accuracy: 0.7899 - val_loss: 6.3103 - val_accuracy: 0.4375\b\b\b\b\b\b\b\b\b\b\b\b\b\b\b\b\b\b\b\b\b\b\b\b\b\b\b\b\b\b\b\b\b\b\b\b\b\b\b\b\b\b\b\b\b\b\b\b\b\b\b\b\b\b\b\b\b\b\b\b\b\b\b\b\b\b\b\b\b\b\b\b\b\b\b\b\b\b\b\b\b\b\b\b\b\b\b\b\b\b\b\b\b\b\b\b\b\b\b\b\b\b\b\b\b\b\b\b\b\b\b\b\b\b\b\b\b\b\b\b\b\b\b\n",
      "Epoch 16/100\n",
      "1152/1152 [==============================] - 0s 74us/sample - loss: 1.1928 - accuracy: 0.7422 - val_loss: 6.6716 - val_accuracy: 0.4028\b\b\b\b\b\b\b\b\b\b\b\b\b\b\b\b\b\b\b\b\b\b\b\b\b\b\b\b\b\b\b\b\b\b\b\b\b\b\b\b\b\b\b\b\b\b\b\b\b\b\b\b\b\b\b\b\b\b\b\b\b\b\b\b\b\b\b\b\b\b\b\b\b\b\b\b\b\b\b\b\b\b\b\b\b\b\b\b\b\b\b\b\b\b\b\b\b\b\b\b\b\b\b\b\b\b\b\b\b\b\b\b\b\b\b\b\b\b\b\b\b\b\b\n",
      "Epoch 17/100\n",
      "1152/1152 [==============================] - 0s 67us/sample - loss: 1.1199 - accuracy: 0.7726 - val_loss: 6.4702 - val_accuracy: 0.4444\b\b\b\b\b\b\b\b\b\b\b\b\b\b\b\b\b\b\b\b\b\b\b\b\b\b\b\b\b\b\b\b\b\b\b\b\b\b\b\b\b\b\b\b\b\b\b\b\b\b\b\b\b\b\b\b\b\b\b\b\b\b\b\b\b\b\b\b\b\b\b\b\b\b\b\b\b\b\b\b\b\b\b\b\b\b\b\b\b\b\b\b\b\b\b\b\b\b\b\b\b\b\b\b\b\b\b\b\b\b\b\b\b\b\b\b\b\b\b\b\b\b\b\n",
      "Epoch 18/100\n",
      "1152/1152 [==============================] - 0s 65us/sample - loss: 0.7431 - accuracy: 0.8220 - val_loss: 6.3968 - val_accuracy: 0.4236\b\b\b\b\b\b\b\b\b\b\b\b\b\b\b\b\b\b\b\b\b\b\b\b\b\b\b\b\b\b\b\b\b\b\b\b\b\b\b\b\b\b\b\b\b\b\b\b\b\b\b\b\b\b\b\b\b\b\b\b\b\b\b\b\b\b\b\b\b\b\b\b\b\b\b\b\b\b\b\b\b\b\b\b\b\b\b\b\b\b\b\b\b\b\b\b\b\b\b\b\b\b\b\b\b\b\b\b\b\b\b\b\b\b\b\b\b\b\b\b\b\b\b\n",
      "Epoch 19/100\n",
      "1152/1152 [==============================] - 0s 62us/sample - loss: 0.5408 - accuracy: 0.8507 - val_loss: 6.0382 - val_accuracy: 0.4618\b\b\b\b\b\b\b\b\b\b\b\b\b\b\b\b\b\b\b\b\b\b\b\b\b\b\b\b\b\b\b\b\b\b\b\b\b\n",
      "Epoch 20/100\n",
      "1152/1152 [==============================] - 0s 57us/sample - loss: 0.5030 - accuracy: 0.8628 - val_loss: 6.2794 - val_accuracy: 0.4410\b\b\b\b\b\b\b\b\b\b\b\b\b\b\b\b\b\b\b\b\b\b\b\b\b\b\b\b\b\b\b\b\b\b\b\b\b\n",
      "Epoch 21/100\n",
      "1152/1152 [==============================] - 0s 60us/sample - loss: 0.6303 - accuracy: 0.8307 - val_loss: 5.5950 - val_accuracy: 0.4653\b\b\b\b\b\b\b\b\b\b\b\b\b\b\b\b\b\b\b\b\b\b\b\b\b\b\b\b\b\b\b\b\b\b\b\b\b\n",
      "Epoch 22/100\n",
      "1152/1152 [==============================] - 0s 69us/sample - loss: 0.3295 - accuracy: 0.8967 - val_loss: 5.5509 - val_accuracy: 0.5000\b\b\b\b\b\b\b\b\b\b\b\b\b\b\b\b\b\b\b\b\b\b\b\b\b\b\b\b\b\b\b\b\b\b\b\b\b\b\b\b\b\b\b\b\b\b\b\b\b\b\b\b\b\b\b\b\b\b\b\b\b\b\b\b\b\b\b\b\b\b\b\b\b\b\b\b\b\b\b\b\b\b\b\b\b\b\b\b\b\b\b\b\b\b\b\b\b\b\b\b\b\b\b\b\b\b\b\b\b\b\b\b\b\b\b\b\b\b\b\b\b\b\b\n",
      "Epoch 23/100\n",
      "1152/1152 [==============================] - 0s 82us/sample - loss: 0.2313 - accuracy: 0.9245 - val_loss: 5.4138 - val_accuracy: 0.4826\b\b\b\b\b\b\b\b\b\b\b\b\b\b\b\b\b\b\b\b\b\b\b\b\b\b\b\b\b\b\b\b\b\b\b\b\b\b\b\b\b\b\b\b\b\b\b\b\b\b\b\b\b\b\b\b\b\b\b\b\b\b\b\b\b\b\b\b\b\b\b\b\b\b\b\b\b\b\b\b\b\b\b\b\b\b\b\b\b\b\b\b\b\b\b\b\b\b\b\b\b\b\b\b\b\b\b\b\b\b\b\b\b\b\b\b\b\b\b\b\b\b\b\n",
      "Epoch 24/100\n",
      "1152/1152 [==============================] - 0s 63us/sample - loss: 0.1461 - accuracy: 0.9497 - val_loss: 5.7076 - val_accuracy: 0.4618\b\b\b\b\b\b\b\b\b\b\b\b\b\b\b\b\b\b\b\b\b\b\b\b\b\b\b\b\b\b\b\b\b\b\b\b\b\n",
      "Epoch 25/100\n",
      "1152/1152 [==============================] - 0s 62us/sample - loss: 0.1700 - accuracy: 0.9375 - val_loss: 5.6070 - val_accuracy: 0.4444\b\b\b\b\b\b\b\b\b\b\b\b\b\b\b\b\b\b\b\b\b\b\b\b\b\b\b\b\b\b\b\b\b\b\b\b\b\n",
      "Epoch 26/100\n",
      "1152/1152 [==============================] - 0s 57us/sample - loss: 0.1680 - accuracy: 0.9479 - val_loss: 5.5761 - val_accuracy: 0.4826\b\b\b\b\b\b\b\b\b\b\b\b\b\b\b\b\b\b\b\b\b\b\b\b\b\b\b\b\b\b\b\b\b\b\b\b\b\n",
      "Epoch 27/100\n",
      "1152/1152 [==============================] - 0s 59us/sample - loss: 0.1871 - accuracy: 0.9453 - val_loss: 5.6324 - val_accuracy: 0.4826\b\b\b\b\b\b\b\b\b\b\b\b\b\b\b\b\b\b\b\b\b\b\b\b\b\b\b\b\b\b\b\b\b\b\b\b\b\n",
      "Epoch 28/100\n",
      "1152/1152 [==============================] - 0s 56us/sample - loss: 0.2237 - accuracy: 0.9271 - val_loss: 5.5358 - val_accuracy: 0.4583\b\b\b\b\b\b\b\b\b\b\b\b\b\b\b\b\b\b\b\b\b\b\b\b\b\b\b\b\b\b\b\b\b\b\b\b\b\n",
      "Epoch 29/100\n",
      "1152/1152 [==============================] - 0s 56us/sample - loss: 0.5112 - accuracy: 0.8759 - val_loss: 6.4281 - val_accuracy: 0.4410\b\b\b\b\b\b\b\b\b\b\b\b\b\b\b\b\b\b\b\b\b\b\b\b\b\b\b\b\b\b\b\b\b\b\b\b\b\n",
      "Epoch 30/100\n",
      "1152/1152 [==============================] - 0s 59us/sample - loss: 0.1954 - accuracy: 0.9366 - val_loss: 5.6261 - val_accuracy: 0.4792\b\b\b\b\b\b\b\b\b\b\b\b\b\b\b\b\b\b\b\b\b\b\b\b\b\b\b\b\b\b\b\b\b\b\b\b\b\n",
      "Epoch 31/100\n",
      "1152/1152 [==============================] - 0s 58us/sample - loss: 0.1062 - accuracy: 0.9635 - val_loss: 5.2462 - val_accuracy: 0.4757\b\b\b\b\b\b\b\b\b\b\b\b\b\b\b\b\b\b\b\b\b\b\b\b\b\b\b\b\b\b\b\b\b\b\b\b\b\n",
      "Epoch 32/100\n",
      "1152/1152 [==============================] - 0s 56us/sample - loss: 0.0622 - accuracy: 0.9809 - val_loss: 5.2277 - val_accuracy: 0.4931\b\b\b\b\b\b\b\b\b\b\b\b\b\b\b\b\b\b\b\b\b\b\b\b\b\b\b\b\b\b\b\b\b\b\b\b\b\n",
      "Epoch 33/100\n",
      "1152/1152 [==============================] - 0s 57us/sample - loss: 0.0535 - accuracy: 0.9783 - val_loss: 5.1641 - val_accuracy: 0.4896\b\b\b\b\b\b\b\b\b\b\b\b\b\b\b\b\b\b\b\b\b\b\b\b\b\b\b\b\b\b\b\b\b\b\b\b\b\n",
      "Epoch 34/100\n",
      "1152/1152 [==============================] - 0s 57us/sample - loss: 0.0677 - accuracy: 0.9757 - val_loss: 5.2626 - val_accuracy: 0.4896\b\b\b\b\b\b\b\b\b\b\b\b\b\b\b\b\b\b\b\b\b\b\b\b\b\b\b\b\b\b\b\b\b\b\b\b\b\n",
      "Epoch 35/100\n",
      "1152/1152 [==============================] - 0s 56us/sample - loss: 0.0350 - accuracy: 0.9905 - val_loss: 5.1654 - val_accuracy: 0.5069\b\b\b\b\b\b\b\b\b\b\b\b\b\b\b\b\b\b\b\b\b\b\b\b\b\b\b\b\b\b\b\b\b\b\b\b\b\n",
      "Epoch 36/100\n",
      "1152/1152 [==============================] - 0s 59us/sample - loss: 0.0261 - accuracy: 0.9939 - val_loss: 5.4135 - val_accuracy: 0.4965\b\b\b\b\b\b\b\b\b\b\b\b\b\b\b\b\b\b\b\b\b\b\b\b\b\b\b\b\b\b\b\b\b\b\b\b\b\n",
      "Epoch 37/100\n",
      "1152/1152 [==============================] - 0s 58us/sample - loss: 0.0112 - accuracy: 0.9991 - val_loss: 5.2483 - val_accuracy: 0.4965\b\b\b\b\b\b\b\b\b\b\b\b\b\b\b\b\b\b\b\b\b\b\b\b\b\b\b\b\b\b\b\b\b\b\b\b\b\n",
      "Epoch 38/100\n",
      "1152/1152 [==============================] - 0s 56us/sample - loss: 0.0062 - accuracy: 1.0000 - val_loss: 5.1934 - val_accuracy: 0.4965\b\b\b\b\b\b\b\b\b\b\b\b\b\b\b\b\b\b\b\b\b\b\b\b\b\b\b\b\b\b\b\b\b\b\b\b\b\n",
      "Epoch 39/100\n",
      "1152/1152 [==============================] - 0s 61us/sample - loss: 0.0045 - accuracy: 1.0000 - val_loss: 5.1909 - val_accuracy: 0.4896\b\b\b\b\b\b\b\b\b\b\b\b\b\b\b\b\b\b\b\b\b\b\b\b\b\b\b\b\b\b\b\b\b\b\b\b\b\n",
      "Epoch 40/100\n",
      "1152/1152 [==============================] - 0s 61us/sample - loss: 0.0039 - accuracy: 1.0000 - val_loss: 5.1814 - val_accuracy: 0.4931\b\b\b\b\b\b\b\b\b\b\b\b\b\b\b\b\b\b\b\b\b\b\b\b\b\b\b\b\b\b\b\b\b\b\b\b\b\n",
      "Epoch 41/100\n",
      "1152/1152 [==============================] - 0s 57us/sample - loss: 0.0035 - accuracy: 1.0000 - val_loss: 5.1928 - val_accuracy: 0.4826\b\b\b\b\b\b\b\b\b\b\b\b\b\b\b\b\b\b\b\b\b\b\b\b\b\b\b\b\b\b\b\b\b\b\b\b\b\n",
      "Epoch 42/100\n",
      "1152/1152 [==============================] - 0s 59us/sample - loss: 0.0033 - accuracy: 1.0000 - val_loss: 5.1833 - val_accuracy: 0.4931\b\b\b\b\b\b\b\b\b\b\b\b\b\b\b\b\b\b\b\b\b\b\b\b\b\b\b\b\b\b\b\b\b\b\b\b\b\n",
      "Epoch 43/100\n",
      "1152/1152 [==============================] - 0s 58us/sample - loss: 0.0032 - accuracy: 1.0000 - val_loss: 5.1906 - val_accuracy: 0.4826\b\b\b\b\b\b\b\b\b\b\b\b\b\b\b\b\b\b\b\b\b\b\b\b\b\b\b\b\b\b\b\b\b\b\b\b\b\n",
      "Epoch 44/100\n",
      "1152/1152 [==============================] - 0s 56us/sample - loss: 0.0031 - accuracy: 1.0000 - val_loss: 5.1868 - val_accuracy: 0.4861\b\b\b\b\b\b\b\b\b\b\b\b\b\b\b\b\b\b\b\b\b\b\b\b\b\b\b\b\b\b\b\b\b\b\b\b\b\n",
      "Epoch 45/100\n",
      "1152/1152 [==============================] - 0s 61us/sample - loss: 0.0029 - accuracy: 1.0000 - val_loss: 5.1842 - val_accuracy: 0.4896\b\b\b\b\b\b\b\b\b\b\b\b\b\b\b\b\b\b\b\b\b\b\b\b\b\b\b\b\b\b\b\b\b\b\b\b\b\n",
      "Epoch 46/100\n",
      "1152/1152 [==============================] - 0s 69us/sample - loss: 0.0028 - accuracy: 1.0000 - val_loss: 5.1927 - val_accuracy: 0.4896\b\b\b\b\b\b\b\b\b\b\b\b\b\b\b\b\b\b\b\b\b\b\b\b\b\b\b\b\b\b\b\b\b\b\b\b\b\b\b\b\b\b\b\b\b\b\b\b\b\b\b\b\b\b\b\b\b\b\b\b\b\b\b\b\b\b\b\b\b\b\b\b\b\b\b\b\b\b\b\b\b\b\b\b\b\b\b\b\b\b\b\b\b\b\b\b\b\b\b\b\b\b\b\b\b\b\b\b\b\b\b\b\b\b\b\b\b\b\b\b\b\b\b\n",
      "Epoch 47/100\n",
      "1152/1152 [==============================] - 0s 73us/sample - loss: 0.0027 - accuracy: 1.0000 - val_loss: 5.1785 - val_accuracy: 0.4861\b\b\b\b\b\b\b\b\b\b\b\b\b\b\b\b\b\b\b\b\b\b\b\b\b\b\b\b\b\b\b\b\b\b\b\b\b\b\b\b\b\b\b\b\b\b\b\b\b\b\b\b\b\b\b\b\b\b\b\b\b\b\b\b\b\b\b\b\b\b\b\b\b\b\b\b\b\b\b\b\b\b\b\b\b\b\b\b\b\b\b\b\b\b\b\b\b\b\b\b\b\b\b\b\b\b\b\b\b\b\b\b\b\b\b\b\b\b\b\b\b\b\b\n",
      "Epoch 48/100\n",
      "1152/1152 [==============================] - 0s 73us/sample - loss: 0.0027 - accuracy: 1.0000 - val_loss: 5.2000 - val_accuracy: 0.4896\b\b\b\b\b\b\b\b\b\b\b\b\b\b\b\b\b\b\b\b\b\b\b\b\b\b\b\b\b\b\b\b\b\b\b\b\b\b\b\b\b\b\b\b\b\b\b\b\b\b\b\b\b\b\b\b\b\b\b\b\b\b\b\b\b\b\b\b\b\b\b\b\b\b\b\b\b\b\b\b\b\b\b\b\b\b\b\b\b\b\b\b\b\b\b\b\b\b\b\b\b\b\b\b\b\b\b\b\b\b\b\b\b\b\b\b\b\b\b\b\b\b\b\n",
      "Epoch 49/100\n",
      "1152/1152 [==============================] - 0s 68us/sample - loss: 0.0026 - accuracy: 1.0000 - val_loss: 5.1936 - val_accuracy: 0.4826\b\b\b\b\b\b\b\b\b\b\b\b\b\b\b\b\b\b\b\b\b\b\b\b\b\b\b\b\b\b\b\b\b\b\b\b\b\b\b\b\b\b\b\b\b\b\b\b\b\b\b\b\b\b\b\b\b\b\b\b\b\b\b\b\b\b\b\b\b\b\b\b\b\b\b\b\b\b\b\b\b\b\b\b\b\b\b\b\b\b\b\b\b\b\b\b\b\b\b\b\b\b\b\b\b\b\b\b\b\b\b\b\b\b\b\b\b\b\b\b\b\b\b\n",
      "Epoch 50/100\n",
      "1152/1152 [==============================] - 0s 83us/sample - loss: 0.0026 - accuracy: 1.0000 - val_loss: 5.2188 - val_accuracy: 0.4861\b\b\b\b\b\b\b\b\b\b\b\b\b\b\b\b\b\b\b\b\b\b\b\b\b\b\b\b\b\b\b\b\b\b\b\b\b\b\b\b\b\b\b\b\b\b\b\b\b\b\b\b\b\b\b\b\b\b\b\b\b\b\b\b\b\b\b\b\b\b\b\b\b\b\b\b\b\b\b\b\b\b\b\b\b\b\b\b\b\b\b\b\b\b\b\b\b\b\b\b\b\b\b\b\b\b\b\b\b\b\b\b\b\b\b\b\b\b\b\b\b\b\b\n",
      "Epoch 51/100\n",
      "1152/1152 [==============================] - 0s 62us/sample - loss: 0.0026 - accuracy: 1.0000 - val_loss: 5.1961 - val_accuracy: 0.4965\b\b\b\b\b\b\b\b\b\b\b\b\b\b\b\b\b\b\b\b\b\b\b\b\b\b\b\b\b\b\b\b\b\b\b\b\b\n",
      "Epoch 52/100\n",
      "1152/1152 [==============================] - 0s 60us/sample - loss: 0.0025 - accuracy: 1.0000 - val_loss: 5.1994 - val_accuracy: 0.4861\b\b\b\b\b\b\b\b\b\b\b\b\b\b\b\b\b\b\b\b\b\b\b\b\b\b\b\b\b\b\b\b\b\b\b\b\b\n",
      "Epoch 53/100\n",
      "1152/1152 [==============================] - 0s 58us/sample - loss: 0.0024 - accuracy: 1.0000 - val_loss: 5.2142 - val_accuracy: 0.4896\b\b\b\b\b\b\b\b\b\b\b\b\b\b\b\b\b\b\b\b\b\b\b\b\b\b\b\b\b\b\b\b\b\b\b\b\b\n",
      "Epoch 54/100\n",
      "1152/1152 [==============================] - 0s 57us/sample - loss: 0.0024 - accuracy: 1.0000 - val_loss: 5.2076 - val_accuracy: 0.4861\b\b\b\b\b\b\b\b\b\b\b\b\b\b\b\b\b\b\b\b\b\b\b\b\b\b\b\b\b\b\b\b\b\b\b\b\b\n",
      "Epoch 55/100\n",
      "1152/1152 [==============================] - 0s 60us/sample - loss: 0.0023 - accuracy: 1.0000 - val_loss: 5.1940 - val_accuracy: 0.4931\b\b\b\b\b\b\b\b\b\b\b\b\b\b\b\b\b\b\b\b\b\b\b\b\b\b\b\b\b\b\b\b\b\b\b\b\b\n",
      "Epoch 56/100\n",
      "1152/1152 [==============================] - 0s 56us/sample - loss: 0.0023 - accuracy: 1.0000 - val_loss: 5.2003 - val_accuracy: 0.4896\b\b\b\b\b\b\b\b\b\b\b\b\b\b\b\b\b\b\b\b\b\b\b\b\b\b\b\b\b\b\b\b\b\b\b\b\b\n",
      "Epoch 57/100\n",
      "1152/1152 [==============================] - 0s 57us/sample - loss: 0.0023 - accuracy: 1.0000 - val_loss: 5.2366 - val_accuracy: 0.4896\b\b\b\b\b\b\b\b\b\b\b\b\b\b\b\b\b\b\b\b\b\b\b\b\b\b\b\b\b\b\b\b\b\b\b\b\b\n",
      "Epoch 58/100\n",
      "1152/1152 [==============================] - 0s 57us/sample - loss: 0.0022 - accuracy: 1.0000 - val_loss: 5.1980 - val_accuracy: 0.4931\b\b\b\b\b\b\b\b\b\b\b\b\b\b\b\b\b\b\b\b\b\b\b\b\b\b\b\b\b\b\b\b\b\b\b\b\b\n",
      "Epoch 59/100\n",
      "1152/1152 [==============================] - 0s 58us/sample - loss: 0.0022 - accuracy: 1.0000 - val_loss: 5.2072 - val_accuracy: 0.4965\b\b\b\b\b\b\b\b\b\b\b\b\b\b\b\b\b\b\b\b\b\b\b\b\b\b\b\b\b\b\b\b\b\b\b\b\b\n",
      "Epoch 60/100\n",
      "1152/1152 [==============================] - 0s 56us/sample - loss: 0.0021 - accuracy: 1.0000 - val_loss: 5.1995 - val_accuracy: 0.4931\b\b\b\b\b\b\b\b\b\b\b\b\b\b\b\b\b\b\b\b\b\b\b\b\b\b\b\b\b\b\b\b\b\b\b\b\b\n",
      "Epoch 61/100\n",
      "1152/1152 [==============================] - 0s 57us/sample - loss: 0.0021 - accuracy: 1.0000 - val_loss: 5.2173 - val_accuracy: 0.4965\b\b\b\b\b\b\b\b\b\b\b\b\b\b\b\b\b\b\b\b\b\b\b\b\b\b\b\b\b\b\b\b\b\b\b\b\b\n",
      "Epoch 62/100\n",
      "1152/1152 [==============================] - 0s 58us/sample - loss: 0.0021 - accuracy: 1.0000 - val_loss: 5.2189 - val_accuracy: 0.4931\b\b\b\b\b\b\b\b\b\b\b\b\b\b\b\b\b\b\b\b\b\b\b\b\b\b\b\b\b\b\b\b\b\b\b\b\b\n",
      "Epoch 63/100\n",
      "1152/1152 [==============================] - 0s 58us/sample - loss: 0.0020 - accuracy: 1.0000 - val_loss: 5.1973 - val_accuracy: 0.4931\b\b\b\b\b\b\b\b\b\b\b\b\b\b\b\b\b\b\b\b\b\b\b\b\b\b\b\b\b\b\b\b\b\b\b\b\b\n",
      "Epoch 64/100\n",
      "1152/1152 [==============================] - 0s 59us/sample - loss: 0.0020 - accuracy: 1.0000 - val_loss: 5.2034 - val_accuracy: 0.4965\b\b\b\b\b\b\b\b\b\b\b\b\b\b\b\b\b\b\b\b\b\b\b\b\b\b\b\b\b\b\b\b\b\b\b\b\b\n",
      "Epoch 65/100\n",
      "1152/1152 [==============================] - 0s 57us/sample - loss: 0.0020 - accuracy: 1.0000 - val_loss: 5.2203 - val_accuracy: 0.4896\b\b\b\b\b\b\b\b\b\b\b\b\b\b\b\b\b\b\b\b\b\b\b\b\b\b\b\b\b\b\b\b\b\b\b\b\b\n",
      "Epoch 66/100\n",
      "1152/1152 [==============================] - 0s 59us/sample - loss: 0.0020 - accuracy: 1.0000 - val_loss: 5.2256 - val_accuracy: 0.4931\b\b\b\b\b\b\b\b\b\b\b\b\b\b\b\b\b\b\b\b\b\b\b\b\b\b\b\b\b\b\b\b\b\b\b\b\b\n",
      "Epoch 67/100\n",
      "1152/1152 [==============================] - 0s 66us/sample - loss: 0.0019 - accuracy: 1.0000 - val_loss: 5.2086 - val_accuracy: 0.5000\b\b\b\b\b\b\b\b\b\b\b\b\b\b\b\b\b\b\b\b\b\b\b\b\b\b\b\b\b\b\b\b\b\b\b\b\b\b\b\b\b\b\b\b\b\b\b\b\b\b\b\b\b\b\b\b\b\b\b\b\b\b\b\b\b\b\b\b\b\b\b\b\b\b\b\b\b\b\b\b\b\b\b\b\b\b\b\b\b\b\b\b\b\b\b\b\b\b\b\b\b\b\b\b\b\b\b\b\b\b\b\b\b\b\b\b\b\b\b\b\b\b\b\n",
      "Epoch 68/100\n",
      "1152/1152 [==============================] - 0s 63us/sample - loss: 0.0019 - accuracy: 1.0000 - val_loss: 5.2257 - val_accuracy: 0.4931\b\b\b\b\b\b\b\b\b\b\b\b\b\b\b\b\b\b\b\b\b\b\b\b\b\b\b\b\b\b\b\b\b\b\b\b\b\n",
      "Epoch 69/100\n",
      "1152/1152 [==============================] - 0s 56us/sample - loss: 0.0018 - accuracy: 1.0000 - val_loss: 5.1970 - val_accuracy: 0.4965\b\b\b\b\b\b\b\b\b\b\b\b\b\b\b\b\b\b\b\b\b\b\b\b\b\b\b\b\b\b\b\b\b\b\b\b\b\n",
      "Epoch 70/100\n",
      "1152/1152 [==============================] - 0s 57us/sample - loss: 0.0018 - accuracy: 1.0000 - val_loss: 5.2389 - val_accuracy: 0.4896\b\b\b\b\b\b\b\b\b\b\b\b\b\b\b\b\b\b\b\b\b\b\b\b\b\b\b\b\b\b\b\b\b\b\b\b\b\n",
      "Epoch 71/100\n",
      "1152/1152 [==============================] - 0s 56us/sample - loss: 0.0018 - accuracy: 1.0000 - val_loss: 5.2234 - val_accuracy: 0.5000\b\b\b\b\b\b\b\b\b\b\b\b\b\b\b\b\b\b\b\b\b\b\b\b\b\b\b\b\b\b\b\b\b\b\b\b\b\n",
      "Epoch 72/100\n",
      "1152/1152 [==============================] - 0s 56us/sample - loss: 0.0018 - accuracy: 1.0000 - val_loss: 5.2335 - val_accuracy: 0.4896\b\b\b\b\b\b\b\b\b\b\b\b\b\b\b\b\b\b\b\b\b\b\b\b\b\b\b\b\b\b\b\b\b\b\b\b\b\n",
      "Epoch 73/100\n",
      "1152/1152 [==============================] - 0s 58us/sample - loss: 0.0018 - accuracy: 1.0000 - val_loss: 5.2226 - val_accuracy: 0.4965\b\b\b\b\b\b\b\b\b\b\b\b\b\b\b\b\b\b\b\b\b\b\b\b\b\b\b\b\b\b\b\b\b\b\b\b\b\n",
      "Epoch 74/100\n",
      "1152/1152 [==============================] - 0s 57us/sample - loss: 0.0018 - accuracy: 1.0000 - val_loss: 5.2026 - val_accuracy: 0.4896\b\b\b\b\b\b\b\b\b\b\b\b\b\b\b\b\b\b\b\b\b\b\b\b\b\b\b\b\b\b\b\b\b\b\b\b\b\n",
      "Epoch 75/100\n",
      "1152/1152 [==============================] - 0s 57us/sample - loss: 0.0017 - accuracy: 1.0000 - val_loss: 5.2302 - val_accuracy: 0.4896\b\b\b\b\b\b\b\b\b\b\b\b\b\b\b\b\b\b\b\b\b\b\b\b\b\b\b\b\b\b\b\b\b\b\b\b\b\n",
      "Epoch 76/100\n",
      "1152/1152 [==============================] - 0s 58us/sample - loss: 0.0017 - accuracy: 1.0000 - val_loss: 5.2239 - val_accuracy: 0.4965\b\b\b\b\b\b\b\b\b\b\b\b\b\b\b\b\b\b\b\b\b\b\b\b\b\b\b\b\b\b\b\b\b\b\b\b\b\n",
      "Epoch 77/100\n",
      "1152/1152 [==============================] - 0s 82us/sample - loss: 0.0017 - accuracy: 1.0000 - val_loss: 5.2015 - val_accuracy: 0.4965\b\b\b\b\b\b\b\b\b\b\b\b\b\b\b\b\b\b\b\b\b\b\b\b\b\b\b\b\b\b\b\b\b\b\b\b\b\b\b\b\b\b\b\b\b\b\b\b\b\b\b\b\b\b\b\b\b\b\b\b\b\b\b\b\b\b\b\b\b\b\b\b\b\b\b\b\b\b\b\b\b\b\b\b\b\b\b\b\b\b\b\b\b\b\b\b\b\b\b\b\b\b\b\b\b\b\b\b\b\b\b\b\b\b\b\b\b\b\b\b\b\b\b\n",
      "Epoch 78/100\n",
      "1152/1152 [==============================] - 0s 59us/sample - loss: 0.0016 - accuracy: 1.0000 - val_loss: 5.2333 - val_accuracy: 0.4931\b\b\b\b\b\b\b\b\b\b\b\b\b\b\b\b\b\b\b\b\b\b\b\b\b\b\b\b\b\b\b\b\b\b\b\b\b\n",
      "Epoch 79/100\n",
      "1152/1152 [==============================] - 0s 64us/sample - loss: 0.0016 - accuracy: 1.0000 - val_loss: 5.2200 - val_accuracy: 0.4931\b\b\b\b\b\b\b\b\b\b\b\b\b\b\b\b\b\b\b\b\b\b\b\b\b\b\b\b\b\b\b\b\b\b\b\b\b\n",
      "Epoch 80/100\n",
      "1152/1152 [==============================] - 0s 63us/sample - loss: 0.0016 - accuracy: 1.0000 - val_loss: 5.2232 - val_accuracy: 0.4931\b\b\b\b\b\b\b\b\b\b\b\b\b\b\b\b\b\b\b\b\b\b\b\b\b\b\b\b\b\b\b\b\b\b\b\b\b\n",
      "Epoch 81/100\n",
      "1152/1152 [==============================] - 0s 58us/sample - loss: 0.0016 - accuracy: 1.0000 - val_loss: 5.2244 - val_accuracy: 0.4931\b\b\b\b\b\b\b\b\b\b\b\b\b\b\b\b\b\b\b\b\b\b\b\b\b\b\b\b\b\b\b\b\b\b\b\b\b\n",
      "Epoch 82/100\n",
      "1152/1152 [==============================] - 0s 56us/sample - loss: 0.0016 - accuracy: 1.0000 - val_loss: 5.2379 - val_accuracy: 0.4896\b\b\b\b\b\b\b\b\b\b\b\b\b\b\b\b\b\b\b\b\b\b\b\b\b\b\b\b\b\b\b\b\b\b\b\b\b\n",
      "Epoch 83/100\n",
      "1152/1152 [==============================] - 0s 60us/sample - loss: 0.0015 - accuracy: 1.0000 - val_loss: 5.2438 - val_accuracy: 0.4896\b\b\b\b\b\b\b\b\b\b\b\b\b\b\b\b\b\b\b\b\b\b\b\b\b\b\b\b\b\b\b\b\b\b\b\b\b\n",
      "Epoch 84/100\n",
      "1152/1152 [==============================] - 0s 59us/sample - loss: 0.0015 - accuracy: 1.0000 - val_loss: 5.2117 - val_accuracy: 0.4896\b\b\b\b\b\b\b\b\b\b\b\b\b\b\b\b\b\b\b\b\b\b\b\b\b\b\b\b\b\b\b\b\b\b\b\b\b\n",
      "Epoch 85/100\n",
      "1152/1152 [==============================] - 0s 58us/sample - loss: 0.0015 - accuracy: 1.0000 - val_loss: 5.2126 - val_accuracy: 0.4965\b\b\b\b\b\b\b\b\b\b\b\b\b\b\b\b\b\b\b\b\b\b\b\b\b\b\b\b\b\b\b\b\b\b\b\b\b\n",
      "Epoch 86/100\n",
      "1152/1152 [==============================] - 0s 57us/sample - loss: 0.0015 - accuracy: 1.0000 - val_loss: 5.2244 - val_accuracy: 0.4931\b\b\b\b\b\b\b\b\b\b\b\b\b\b\b\b\b\b\b\b\b\b\b\b\b\b\b\b\b\b\b\b\b\b\b\b\b\n",
      "Epoch 87/100\n",
      "1152/1152 [==============================] - 0s 58us/sample - loss: 0.0015 - accuracy: 1.0000 - val_loss: 5.2317 - val_accuracy: 0.4896\b\b\b\b\b\b\b\b\b\b\b\b\b\b\b\b\b\b\b\b\b\b\b\b\b\b\b\b\b\b\b\b\b\b\b\b\b\n",
      "Epoch 88/100\n",
      "1152/1152 [==============================] - 0s 56us/sample - loss: 0.0014 - accuracy: 1.0000 - val_loss: 5.2446 - val_accuracy: 0.4826\b\b\b\b\b\b\b\b\b\b\b\b\b\b\b\b\b\b\b\b\b\b\b\b\b\b\b\b\b\b\b\b\b\b\b\b\b\n",
      "Epoch 89/100\n",
      "1152/1152 [==============================] - 0s 59us/sample - loss: 0.0014 - accuracy: 1.0000 - val_loss: 5.2365 - val_accuracy: 0.4931\b\b\b\b\b\b\b\b\b\b\b\b\b\b\b\b\b\b\b\b\b\b\b\b\b\b\b\b\b\b\b\b\b\b\b\b\b\n",
      "Epoch 90/100\n",
      "1152/1152 [==============================] - 0s 56us/sample - loss: 0.0014 - accuracy: 1.0000 - val_loss: 5.2413 - val_accuracy: 0.4861\b\b\b\b\b\b\b\b\b\b\b\b\b\b\b\b\b\b\b\b\b\b\b\b\b\b\b\b\b\b\b\b\b\b\b\b\b\n",
      "Epoch 91/100\n",
      "1152/1152 [==============================] - 0s 59us/sample - loss: 0.0014 - accuracy: 1.0000 - val_loss: 5.2313 - val_accuracy: 0.4931\b\b\b\b\b\b\b\b\b\b\b\b\b\b\b\b\b\b\b\b\b\b\b\b\b\b\b\b\b\b\b\b\b\b\b\b\b\b\b\b\b\b\b\b\b\n",
      "Epoch 92/100\n",
      "1152/1152 [==============================] - 0s 59us/sample - loss: 0.0014 - accuracy: 1.0000 - val_loss: 5.2274 - val_accuracy: 0.4861\b\b\b\b\b\b\b\b\b\b\b\b\b\b\b\b\b\b\b\b\b\b\b\b\b\b\b\b\b\b\b\b\b\b\b\b\b\n",
      "Epoch 93/100\n",
      "1152/1152 [==============================] - 0s 57us/sample - loss: 0.0013 - accuracy: 1.0000 - val_loss: 5.2389 - val_accuracy: 0.4931\b\b\b\b\b\b\b\b\b\b\b\b\b\b\b\b\b\b\b\b\b\b\b\b\b\b\b\b\b\b\b\b\b\b\b\b\b\n",
      "Epoch 94/100\n",
      "1152/1152 [==============================] - 0s 59us/sample - loss: 0.0013 - accuracy: 1.0000 - val_loss: 5.2421 - val_accuracy: 0.4896\b\b\b\b\b\b\b\b\b\b\b\b\b\b\b\b\b\b\b\b\b\b\b\b\b\b\b\b\b\b\b\b\b\b\b\b\b\n",
      "Epoch 95/100\n",
      "1152/1152 [==============================] - 0s 56us/sample - loss: 0.0013 - accuracy: 1.0000 - val_loss: 5.2313 - val_accuracy: 0.4931\b\b\b\b\b\b\b\b\b\b\b\b\b\b\b\b\b\b\b\b\b\b\b\b\b\b\b\b\b\b\b\b\b\b\b\b\b\b\b\b\b\b\b\b\b\n",
      "Epoch 96/100\n",
      "1152/1152 [==============================] - 0s 56us/sample - loss: 0.0013 - accuracy: 1.0000 - val_loss: 5.2463 - val_accuracy: 0.4861\b\b\b\b\b\b\b\b\b\b\b\b\b\b\b\b\b\b\b\b\b\b\b\b\b\b\b\b\b\b\b\b\b\b\b\b\b\n",
      "Epoch 97/100\n",
      "1152/1152 [==============================] - 0s 58us/sample - loss: 0.0013 - accuracy: 1.0000 - val_loss: 5.2361 - val_accuracy: 0.4896\b\b\b\b\b\b\b\b\b\b\b\b\b\b\b\b\b\b\b\b\b\b\b\b\b\b\b\b\b\b\b\b\b\b\b\b\b\n",
      "Epoch 98/100\n",
      "1152/1152 [==============================] - 0s 59us/sample - loss: 0.0013 - accuracy: 1.0000 - val_loss: 5.2349 - val_accuracy: 0.4965\b\b\b\b\b\b\b\b\b\b\b\b\b\b\b\b\b\b\b\b\b\b\b\b\b\b\b\b\b\b\b\b\b\b\b\b\b\b\b\b\b\b\b\b\b\n",
      "Epoch 99/100\n",
      "1152/1152 [==============================] - 0s 59us/sample - loss: 0.0013 - accuracy: 1.0000 - val_loss: 5.2231 - val_accuracy: 0.4931\b\b\b\b\b\b\b\b\b\b\b\b\b\b\b\b\b\b\b\b\b\b\b\b\b\b\b\b\b\b\b\b\b\b\b\b\b\n",
      "Epoch 100/100\n",
      "1152/1152 [==============================] - 0s 58us/sample - loss: 0.0013 - accuracy: 1.0000 - val_loss: 5.2378 - val_accuracy: 0.4931\b\b\b\b\b\b\b\b\b\b\b\b\b\b\b\b\b\b\b\b\b\b\b\b\b\b\b\b\b\b\b\b\b\b\b\b\b\n",
      "288/288 [==============================] - 0s 358us/sample - loss: 5.2378 - accuracy: 0.4931\b\b\b\b\b\b\b\b\b\b\b\b\b\b\b\b\b\b\b\b\b\b\b\b\b\b\b\b\b\b\b\b\b\b\b\b\b\b\b\b\b\b\b\b\b\b\b\b\b\b\b\b\b\b\b\b\b\b\b\b\b\b\b\b\b\b\b\b\b\b\b\b\b\b\b\b\n",
      "Accuracy on test set is: 0.4930555522441864\n"
     ]
    }
   ],
   "source": [
    "model = build_model()\n",
    "\n",
    "# compile network\n",
    "optimizer = keras.optimizers.Adam(learning_rate=0.0001)\n",
    "model.compile(\n",
    "    optimizer=optimizer,\n",
    "    loss=\"sparse_categorical_crossentropy\",\n",
    "    metrics=[\"accuracy\"]\n",
    ")\n",
    "\n",
    "model.summary()\n",
    "\n",
    "history = model.fit(\n",
    "    inputs_train,\n",
    "    targets_train,\n",
    "    validation_data=(inputs_test, targets_test),\n",
    "    epochs=100,\n",
    "    batch_size=64\n",
    ")\n",
    "\n",
    "test_error, test_accuracy = model.evaluate(inputs_test, targets_test, verbose=1)\n",
    "print(\"Accuracy on test set is: {}\".format(test_accuracy))"
   ],
   "metadata": {
    "collapsed": false,
    "pycharm": {
     "name": "#%%\n"
    }
   }
  },
  {
   "cell_type": "code",
   "execution_count": 6,
   "outputs": [],
   "source": [
    "# calc average performance\n",
    "\n",
    "# acc_list = []\n",
    "#\n",
    "# for i in range(1, 21):\n",
    "#     model = build_model()\n",
    "#\n",
    "#     # compile network\n",
    "#     optimizer = keras.optimizers.Adam(learning_rate=0.0001)\n",
    "#     model.compile(optimizer=optimizer, loss=\"sparse_categorical_crossentropy\", metrics=[\"accuracy\"])\n",
    "#\n",
    "#     # model.summary()\n",
    "#\n",
    "#     history = model.fit(\n",
    "#         inputs_train,\n",
    "#         targets_train,\n",
    "#         validation_data=(inputs_test, targets_test),\n",
    "#         epochs=100,\n",
    "#         batch_size=64,\n",
    "#         verbose=0\n",
    "#     )\n",
    "#\n",
    "#     # evaluate the CNN on the test set\n",
    "#     test_error, test_accuracy = model.evaluate(inputs_test, targets_test, verbose=1)\n",
    "#     print(\"Accuracy on test set is: {}\".format(str(round(100 * test_accuracy, 2))))\n",
    "#\n",
    "#     if test_accuracy > 0.57:\n",
    "#         model.save(\"../models/mlp_top_performing_run{}.h5\".format(i))\n",
    "#         print(\"Model saved in run {}\".format(i))\n",
    "#\n",
    "#     acc_list.append(str(round(100 * test_accuracy, 2)))"
   ],
   "metadata": {
    "collapsed": false,
    "pycharm": {
     "name": "#%%\n"
    }
   }
  },
  {
   "cell_type": "code",
   "execution_count": 7,
   "metadata": {
    "pycharm": {
     "name": "#%%\n"
    }
   },
   "outputs": [],
   "source": [
    "def plot_history(history):\n",
    "\n",
    "    plt.style.use('default')\n",
    "    fig, axs = plt.subplots(2)\n",
    "\n",
    "    # create accuracy subplot\n",
    "    axs[0].plot(history.history[\"accuracy\"], label=\"train accuracy\")\n",
    "    axs[0].plot(history.history[\"val_accuracy\"], label=\"test accuracy\")\n",
    "    axs[0].set_ylabel(\"Präzision\")\n",
    "    axs[0].set_xlabel(\"Epoche\")\n",
    "    axs[0].legend(loc=\"lower right\")\n",
    "    axs[0].set_title(\"Accuracy Evaluation\")\n",
    "\n",
    "    # create error subplot\n",
    "    axs[1].plot(history.history[\"loss\"], label=\"train error\")\n",
    "    axs[1].plot(history.history[\"val_loss\"], label=\"test error\")\n",
    "    axs[1].set_ylabel(\"Error\")\n",
    "    axs[1].set_xlabel(\"Epoche\")\n",
    "    axs[1].legend(loc=\"upper right\")\n",
    "    axs[1].set_title(\"Error Evaluation\")\n",
    "\n",
    "    plt.tight_layout()\n",
    "    plt.show()\n",
    "    # plt.savefig('../plots/mlp_150_epochs_optimized_structure_with_anti_overfit2.png')"
   ]
  },
  {
   "cell_type": "code",
   "execution_count": 8,
   "metadata": {
    "pycharm": {
     "name": "#%%\n"
    }
   },
   "outputs": [
    {
     "data": {
      "text/plain": "<Figure size 640x480 with 2 Axes>",
      "image/png": "[encoded data removed]"
     },
     "metadata": {},
     "output_type": "display_data"
    }
   ],
   "source": [
    "plot_history(history)"
   ]
  },
  {
   "cell_type": "code",
   "execution_count": 9,
   "metadata": {
    "pycharm": {
     "name": "#%%\n"
    }
   },
   "outputs": [],
   "source": [
    "# x = inputs_test[42:52]\n",
    "# emo = targets_test[42:52]\n",
    "#\n",
    "# print(model.predict_classes(x))\n",
    "# print(emo)\n"
   ]
  }
 ],
 "metadata": {
  "kernelspec": {
   "display_name": "Python 3",
   "language": "python",
   "name": "python3"
  },
  "language_info": {
   "codemirror_mode": {
    "name": "ipython",
    "version": 3
   },
   "file_extension": ".py",
   "mimetype": "text/x-python",
   "name": "python",
   "nbconvert_exporter": "python",
   "pygments_lexer": "ipython3",
   "version": "3.7.7"
  }
 },
 "nbformat": 4,
 "nbformat_minor": 1
}