{
 "cells": [
  {
   "cell_type": "code",
   "execution_count": 26,
   "metadata": {
    "collapsed": true
   },
   "outputs": [],
   "source": [
    "import os\n",
    "\n",
    "import librosa, librosa.display\n",
    "import IPython.display as ipd\n",
    "from random import random\n",
    "\n",
    "import numpy as np\n",
    "import pandas as pd\n",
    "import matplotlib.pyplot as plt\n",
    "\n",
    "from scipy import signal\n",
    "from sklearn import svm, metrics\n",
    "from sklearn.model_selection import train_test_split\n",
    "from tqdm import tqdm\n",
    "\n",
    "PROCESSED_DATA_PICKLE_PATH = '../data/df_all.pkl'\n",
    "\n",
    "EMOTIONS = ['neutral', 'calm', 'happy', 'sad', 'angry', 'fearful', 'disgust', 'surprised']\n",
    "\n",
    "MFCC_LENGTH = 125"
   ]
  },
  {
   "cell_type": "code",
   "execution_count": 2,
   "outputs": [],
   "source": [
    "df = pd.read_pickle(PROCESSED_DATA_PICKLE_PATH)\n",
    "\n",
    "def load_data(data_path):\n",
    "    df = pd.read_pickle(data_path)\n",
    "\n",
    "    # clean up data\n",
    "    vals = []\n",
    "    for i, val in enumerate(df[\"mfcc\"].to_numpy()):\n",
    "        if len(val) < MFCC_LENGTH:\n",
    "            vals.append(i)\n",
    "\n",
    "    df = df.drop(vals)\n",
    "    df = df.reset_index(drop=True)\n",
    "\n",
    "    X = np.stack(df[\"mfcc\"].to_numpy())\n",
    "    y = np.stack(df[\"emotion\"].to_numpy())\n",
    "\n",
    "    return X, y"
   ],
   "metadata": {
    "collapsed": false,
    "pycharm": {
     "name": "#%%\n"
    }
   }
  },
  {
   "cell_type": "code",
   "execution_count": 39,
   "outputs": [],
   "source": [
    "def prepare_datasets(test_size):\n",
    "\n",
    "    # load data\n",
    "    X, y = load_data(PROCESSED_DATA_PICKLE_PATH)\n",
    "\n",
    "    new_X = []\n",
    "    for i in X:\n",
    "        avg_mfcc = []\n",
    "        for j in i:\n",
    "            avg_mfcc.append(j.mean())\n",
    "        new_X.append(avg_mfcc)\n",
    "    X = np.array(new_X)\n",
    "\n",
    "    # create train/test split\n",
    "    X_train, X_test, y_train, y_test = train_test_split(X, y, test_size=test_size)\n",
    "\n",
    "    return X_train, X_test, y_train, y_test\n",
    "\n",
    "X_train, X_test, y_train, y_test = prepare_datasets(0.3)"
   ],
   "metadata": {
    "collapsed": false,
    "pycharm": {
     "name": "#%%\n"
    }
   }
  },
  {
   "cell_type": "code",
   "execution_count": 40,
   "outputs": [
    {
     "name": "stdout",
     "output_type": "stream",
     "text": [
      "(432, 125)\n",
      "Accuracy: 0.3680555555555556\n"
     ]
    }
   ],
   "source": [
    "clf = svm.SVC(decision_function_shape='ovo')\n",
    "clf.fit(X_train, y_train)\n",
    "\n",
    "print(X_test.shape)\n",
    "\n",
    "y_pred = clf.predict(X_test)\n",
    "\n",
    "print(\"Accuracy: {}\".format(metrics.accuracy_score(y_test, y_pred)))\n"
   ],
   "metadata": {
    "collapsed": false,
    "pycharm": {
     "name": "#%%\n"
    }
   }
  }
 ],
 "metadata": {
  "kernelspec": {
   "display_name": "Python 3",
   "language": "python",
   "name": "python3"
  },
  "language_info": {
   "codemirror_mode": {
    "name": "ipython",
    "version": 2
   },
   "file_extension": ".py",
   "mimetype": "text/x-python",
   "name": "python",
   "nbconvert_exporter": "python",
   "pygments_lexer": "ipython2",
   "version": "2.7.6"
  }
 },
 "nbformat": 4,
 "nbformat_minor": 0
}