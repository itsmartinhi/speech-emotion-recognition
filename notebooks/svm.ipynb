{
 "cells": [
  {
   "cell_type": "code",
   "execution_count": 9,
   "metadata": {
    "collapsed": true
   },
   "outputs": [],
   "source": [
    "import os\n",
    "\n",
    "import librosa, librosa.display\n",
    "import IPython.display as ipd\n",
    "from random import random\n",
    "\n",
    "import numpy as np\n",
    "import pandas as pd\n",
    "import matplotlib.pyplot as plt\n",
    "\n",
    "from scipy import signal\n",
    "from sklearn import svm, metrics\n",
    "from sklearn.model_selection import train_test_split\n",
    "from tqdm import tqdm\n",
    "\n",
    "import csv\n",
    "\n",
    "PROCESSED_DATA_PICKLE_PATH = '../data/df_all.pkl'\n",
    "PROCESSED_DATA_PICKLE_PATH_N = '../data/df_normal.pkl'\n",
    "\n",
    "EMOTIONS = ['neutral', 'calm', 'happy', 'sad', 'angry', 'fearful', 'disgust', 'surprised']\n",
    "\n",
    "MFCC_LENGTH = 125"
   ]
  },
  {
   "cell_type": "code",
   "execution_count": 10,
   "outputs": [
    {
     "data": {
      "text/plain": "                                                path source actor gender  \\\n0  ../data/Audio_Speech_Actors_01-24/Actor_01/03-...      1     1      1   \n1  ../data/Audio_Speech_Actors_01-24/Actor_01/03-...      1     1      1   \n2  ../data/Audio_Speech_Actors_01-24/Actor_01/03-...      1     1      1   \n3  ../data/Audio_Speech_Actors_01-24/Actor_01/03-...      1     1      1   \n4  ../data/Audio_Speech_Actors_01-24/Actor_01/03-...      1     1      1   \n\n  gender_label statement repetition intensity emotion emotion_label  \\\n0         male         0          1         0       0       neutral   \n1         male         0          2         0       0       neutral   \n2         male         1          1         0       0       neutral   \n3         male         1          2         0       0       neutral   \n4         male         0          1         0       1          calm   \n\n                                                mfcc  \n0  [[-857.3094533443688, 0.0, 0.0, 0.0, 0.0, 0.0,...  \n1  [[-864.8902862773604, 0.0, 0.0, 0.0, 0.0, 0.0,...  \n2  [[-849.4454325616318, 9.397479238778757, 9.257...  \n3  [[-832.7343966188961, 11.492822043371124, 0.14...  \n4  [[-902.4064116162402, 6.517241898027468, 6.427...  ",
      "text/html": "<div>\n<style scoped>\n    .dataframe tbody tr th:only-of-type {\n        vertical-align: middle;\n    }\n\n    .dataframe tbody tr th {\n        vertical-align: top;\n    }\n\n    .dataframe thead th {\n        text-align: right;\n    }\n</style>\n<table border=\"1\" class=\"dataframe\">\n  <thead>\n    <tr style=\"text-align: right;\">\n      <th></th>\n      <th>path</th>\n      <th>source</th>\n      <th>actor</th>\n      <th>gender</th>\n      <th>gender_label</th>\n      <th>statement</th>\n      <th>repetition</th>\n      <th>intensity</th>\n      <th>emotion</th>\n      <th>emotion_label</th>\n      <th>mfcc</th>\n    </tr>\n  </thead>\n  <tbody>\n    <tr>\n      <th>0</th>\n      <td>../data/Audio_Speech_Actors_01-24/Actor_01/03-...</td>\n      <td>1</td>\n      <td>1</td>\n      <td>1</td>\n      <td>male</td>\n      <td>0</td>\n      <td>1</td>\n      <td>0</td>\n      <td>0</td>\n      <td>neutral</td>\n      <td>[[-857.3094533443688, 0.0, 0.0, 0.0, 0.0, 0.0,...</td>\n    </tr>\n    <tr>\n      <th>1</th>\n      <td>../data/Audio_Speech_Actors_01-24/Actor_01/03-...</td>\n      <td>1</td>\n      <td>1</td>\n      <td>1</td>\n      <td>male</td>\n      <td>0</td>\n      <td>2</td>\n      <td>0</td>\n      <td>0</td>\n      <td>neutral</td>\n      <td>[[-864.8902862773604, 0.0, 0.0, 0.0, 0.0, 0.0,...</td>\n    </tr>\n    <tr>\n      <th>2</th>\n      <td>../data/Audio_Speech_Actors_01-24/Actor_01/03-...</td>\n      <td>1</td>\n      <td>1</td>\n      <td>1</td>\n      <td>male</td>\n      <td>1</td>\n      <td>1</td>\n      <td>0</td>\n      <td>0</td>\n      <td>neutral</td>\n      <td>[[-849.4454325616318, 9.397479238778757, 9.257...</td>\n    </tr>\n    <tr>\n      <th>3</th>\n      <td>../data/Audio_Speech_Actors_01-24/Actor_01/03-...</td>\n      <td>1</td>\n      <td>1</td>\n      <td>1</td>\n      <td>male</td>\n      <td>1</td>\n      <td>2</td>\n      <td>0</td>\n      <td>0</td>\n      <td>neutral</td>\n      <td>[[-832.7343966188961, 11.492822043371124, 0.14...</td>\n    </tr>\n    <tr>\n      <th>4</th>\n      <td>../data/Audio_Speech_Actors_01-24/Actor_01/03-...</td>\n      <td>1</td>\n      <td>1</td>\n      <td>1</td>\n      <td>male</td>\n      <td>0</td>\n      <td>1</td>\n      <td>0</td>\n      <td>1</td>\n      <td>calm</td>\n      <td>[[-902.4064116162402, 6.517241898027468, 6.427...</td>\n    </tr>\n  </tbody>\n</table>\n</div>"
     },
     "execution_count": 10,
     "metadata": {},
     "output_type": "execute_result"
    }
   ],
   "source": [
    "df = pd.read_pickle(PROCESSED_DATA_PICKLE_PATH)\n",
    "df.head()"
   ],
   "metadata": {
    "collapsed": false,
    "pycharm": {
     "name": "#%%\n"
    }
   }
  },
  {
   "cell_type": "code",
   "execution_count": 11,
   "outputs": [
    {
     "data": {
      "text/plain": "                                                path source actor gender  \\\n0  ../data/Audio_Speech_Actors_01-24/Actor_01/03-...      1     1      1   \n1  ../data/Audio_Speech_Actors_01-24/Actor_01/03-...      1     1      1   \n2  ../data/Audio_Speech_Actors_01-24/Actor_01/03-...      1     1      1   \n3  ../data/Audio_Speech_Actors_01-24/Actor_01/03-...      1     1      1   \n4  ../data/Audio_Speech_Actors_01-24/Actor_01/03-...      1     1      1   \n\n  gender_label statement repetition intensity emotion emotion_label  \\\n0         male         0          1         0       0       neutral   \n1         male         0          2         0       0       neutral   \n2         male         1          1         0       0       neutral   \n3         male         1          2         0       0       neutral   \n4         male         0          1         0       1          calm   \n\n  augmentation                                               mfcc  \n0         none  [[-857.3094533443688, 0.0, 0.0, 0.0, 0.0, 0.0,...  \n1         none  [[-864.8902862773604, 0.0, 0.0, 0.0, 0.0, 0.0,...  \n2         none  [[-849.4454325616318, 9.397479238778757, 9.257...  \n3         none  [[-832.7343966188961, 11.492822043371124, 0.14...  \n4         none  [[-902.4064116162402, 6.517241898027468, 6.427...  ",
      "text/html": "<div>\n<style scoped>\n    .dataframe tbody tr th:only-of-type {\n        vertical-align: middle;\n    }\n\n    .dataframe tbody tr th {\n        vertical-align: top;\n    }\n\n    .dataframe thead th {\n        text-align: right;\n    }\n</style>\n<table border=\"1\" class=\"dataframe\">\n  <thead>\n    <tr style=\"text-align: right;\">\n      <th></th>\n      <th>path</th>\n      <th>source</th>\n      <th>actor</th>\n      <th>gender</th>\n      <th>gender_label</th>\n      <th>statement</th>\n      <th>repetition</th>\n      <th>intensity</th>\n      <th>emotion</th>\n      <th>emotion_label</th>\n      <th>augmentation</th>\n      <th>mfcc</th>\n    </tr>\n  </thead>\n  <tbody>\n    <tr>\n      <th>0</th>\n      <td>../data/Audio_Speech_Actors_01-24/Actor_01/03-...</td>\n      <td>1</td>\n      <td>1</td>\n      <td>1</td>\n      <td>male</td>\n      <td>0</td>\n      <td>1</td>\n      <td>0</td>\n      <td>0</td>\n      <td>neutral</td>\n      <td>none</td>\n      <td>[[-857.3094533443688, 0.0, 0.0, 0.0, 0.0, 0.0,...</td>\n    </tr>\n    <tr>\n      <th>1</th>\n      <td>../data/Audio_Speech_Actors_01-24/Actor_01/03-...</td>\n      <td>1</td>\n      <td>1</td>\n      <td>1</td>\n      <td>male</td>\n      <td>0</td>\n      <td>2</td>\n      <td>0</td>\n      <td>0</td>\n      <td>neutral</td>\n      <td>none</td>\n      <td>[[-864.8902862773604, 0.0, 0.0, 0.0, 0.0, 0.0,...</td>\n    </tr>\n    <tr>\n      <th>2</th>\n      <td>../data/Audio_Speech_Actors_01-24/Actor_01/03-...</td>\n      <td>1</td>\n      <td>1</td>\n      <td>1</td>\n      <td>male</td>\n      <td>1</td>\n      <td>1</td>\n      <td>0</td>\n      <td>0</td>\n      <td>neutral</td>\n      <td>none</td>\n      <td>[[-849.4454325616318, 9.397479238778757, 9.257...</td>\n    </tr>\n    <tr>\n      <th>3</th>\n      <td>../data/Audio_Speech_Actors_01-24/Actor_01/03-...</td>\n      <td>1</td>\n      <td>1</td>\n      <td>1</td>\n      <td>male</td>\n      <td>1</td>\n      <td>2</td>\n      <td>0</td>\n      <td>0</td>\n      <td>neutral</td>\n      <td>none</td>\n      <td>[[-832.7343966188961, 11.492822043371124, 0.14...</td>\n    </tr>\n    <tr>\n      <th>4</th>\n      <td>../data/Audio_Speech_Actors_01-24/Actor_01/03-...</td>\n      <td>1</td>\n      <td>1</td>\n      <td>1</td>\n      <td>male</td>\n      <td>0</td>\n      <td>1</td>\n      <td>0</td>\n      <td>1</td>\n      <td>calm</td>\n      <td>none</td>\n      <td>[[-902.4064116162402, 6.517241898027468, 6.427...</td>\n    </tr>\n  </tbody>\n</table>\n</div>"
     },
     "execution_count": 11,
     "metadata": {},
     "output_type": "execute_result"
    }
   ],
   "source": [
    "df_normal = pd.read_pickle(PROCESSED_DATA_PICKLE_PATH_N)\n",
    "df_normal.head()"
   ],
   "metadata": {
    "collapsed": false,
    "pycharm": {
     "name": "#%%\n"
    }
   }
  },
  {
   "cell_type": "code",
   "execution_count": 12,
   "outputs": [],
   "source": [
    "def load_data(data_path):\n",
    "    df = pd.read_pickle(data_path)\n",
    "\n",
    "    # # clean up data\n",
    "    # vals = []\n",
    "    # for i, val in enumerate(df[\"mfcc\"].to_numpy()):\n",
    "    #     if len(val) < MFCC_LENGTH:\n",
    "    #         vals.append(i)\n",
    "    #\n",
    "    # df = df.drop(vals)\n",
    "    # df = df.reset_index(drop=True)\n",
    "\n",
    "    X = np.stack(df[\"mfcc\"].to_numpy())\n",
    "    y = np.stack(df[\"emotion\"].to_numpy())\n",
    "\n",
    "    return X, y"
   ],
   "metadata": {
    "collapsed": false,
    "pycharm": {
     "name": "#%%\n"
    }
   }
  },
  {
   "cell_type": "code",
   "execution_count": 13,
   "outputs": [],
   "source": [
    "def prepare_datasets(test_size):\n",
    "\n",
    "    # load data\n",
    "    X, y = load_data(PROCESSED_DATA_PICKLE_PATH_N)\n",
    "\n",
    "    new_X = []\n",
    "    for i in X:\n",
    "        avg_mfcc = []\n",
    "        for j in i:\n",
    "            avg_mfcc.append(j.mean())\n",
    "        new_X.append(avg_mfcc)\n",
    "    X = np.array(new_X)\n",
    "\n",
    "    # create train/test split\n",
    "    X_train, X_test, y_train, y_test = train_test_split(X, y, test_size=test_size)\n",
    "\n",
    "    return X_train, X_test, y_train, y_test"
   ],
   "metadata": {
    "collapsed": false,
    "pycharm": {
     "name": "#%%\n"
    }
   }
  },
  {
   "cell_type": "code",
   "execution_count": 7,
   "outputs": [],
   "source": [
    "def run_training_all():\n",
    "    X_train, X_test, y_train, y_test = prepare_datasets(0.2)\n",
    "\n",
    "    clf_lin = svm.SVC(kernel='linear', decision_function_shape='ovo')\n",
    "    clf_sig = svm.SVC(kernel='sigmoid', decision_function_shape='ovo')\n",
    "    clf_pol = svm.SVC(kernel='poly', decision_function_shape='ovo')\n",
    "    clf_rbf = svm.SVC(kernel='rbf', decision_function_shape='ovo')\n",
    "\n",
    "    clf_lin.fit(X_train, y_train)\n",
    "    clf_sig.fit(X_train, y_train)\n",
    "    clf_pol.fit(X_train, y_train)\n",
    "    clf_rbf.fit(X_train, y_train)\n",
    "\n",
    "    pred_lin = clf_lin.predict(X_test)\n",
    "    pred_sig = clf_sig.predict(X_test)\n",
    "    pred_pol = clf_pol.predict(X_test)\n",
    "    pred_rbf = clf_rbf.predict(X_test)\n",
    "\n",
    "    print(\"linear: {}\".format(metrics.accuracy_score(y_test, pred_lin)))\n",
    "    print(\"sigmoid: {}\".format(metrics.accuracy_score(y_test, pred_sig)))\n",
    "    print(\"poly: {}\".format(metrics.accuracy_score(y_test, pred_pol)))\n",
    "    print(\"rbf: {}\".format(metrics.accuracy_score(y_test, pred_rbf)))\n",
    "\n",
    "def run_training_rbf():\n",
    "    csv_file = '../data/rbf_performance_final.csv'\n",
    "    csv_columns = ['Run', 'C-Value', 'Gamma Value', 'Accuracy']\n",
    "\n",
    "    c_values = list(range(1, 51))\n",
    "    gamma_values = ['scale', 0.01, 0.001, 0.0001]\n",
    "\n",
    "    run_count = 1\n",
    "    run_data = []\n",
    "\n",
    "\n",
    "    for i in tqdm(range(1, 51)):\n",
    "        X_train, X_test, y_train, y_test = prepare_datasets(0.2)\n",
    "        clf_rbf = svm.SVC(kernel='rbf', C=5, gamma=0.001, decision_function_shape='ovo')\n",
    "        clf_rbf.fit(X_train, y_train)\n",
    "        pred_rbf = clf_rbf.predict(X_test)\n",
    "        acc = metrics.accuracy_score(y_test, pred_rbf)\n",
    "        run_data.append({\n",
    "            'Run': run_count,\n",
    "            'C-Value': 10,\n",
    "            'Gamma Value': 'scale',\n",
    "            'Accuracy': acc\n",
    "        })\n",
    "        run_count += 1\n",
    "        print(\"precision: {}\".format(acc))\n",
    "\n",
    "    try:\n",
    "        with open(csv_file, 'w') as csv_file:\n",
    "            writer = csv.DictWriter(csv_file, fieldnames=csv_columns)\n",
    "            writer.writeheader()\n",
    "            for data in run_data:\n",
    "                writer.writerow(data)\n",
    "\n",
    "    except IOError:\n",
    "        print(\"I/O Error\")"
   ],
   "metadata": {
    "collapsed": false,
    "pycharm": {
     "name": "#%%\n"
    }
   }
  },
  {
   "cell_type": "code",
   "execution_count": 8,
   "outputs": [
    {
     "name": "stderr",
     "output_type": "stream",
     "text": [
      " 16%|█▌        | 8/50 [00:15<01:21,  1.94s/it]\n"
     ]
    },
    {
     "name": "stdout",
     "output_type": "stream",
     "text": [
      "precision: 0.3472222222222222\n",
      "precision: 0.3715277777777778\n",
      "precision: 0.4340277777777778\n",
      "precision: 0.4409722222222222\n",
      "precision: 0.4131944444444444\n",
      "precision: 0.4027777777777778\n",
      "precision: 0.3576388888888889\n",
      "precision: 0.3888888888888889\n"
     ]
    },
    {
     "ename": "KeyboardInterrupt",
     "evalue": "",
     "output_type": "error",
     "traceback": [
      "\u001B[1;31m---------------------------------------------------------------------------\u001B[0m",
      "\u001B[1;31mKeyboardInterrupt\u001B[0m                         Traceback (most recent call last)",
      "\u001B[1;32m<ipython-input-8-120c0c8b2c06>\u001B[0m in \u001B[0;36m<module>\u001B[1;34m\u001B[0m\n\u001B[1;32m----> 1\u001B[1;33m \u001B[0mrun_training_rbf\u001B[0m\u001B[1;33m(\u001B[0m\u001B[1;33m)\u001B[0m\u001B[1;33m\u001B[0m\u001B[1;33m\u001B[0m\u001B[0m\n\u001B[0m\u001B[0;32m      2\u001B[0m \u001B[1;33m\u001B[0m\u001B[0m\n",
      "\u001B[1;32m<ipython-input-7-85c0416f73c0>\u001B[0m in \u001B[0;36mrun_training_rbf\u001B[1;34m()\u001B[0m\n\u001B[0;32m     34\u001B[0m \u001B[1;33m\u001B[0m\u001B[0m\n\u001B[0;32m     35\u001B[0m     \u001B[1;32mfor\u001B[0m \u001B[0mi\u001B[0m \u001B[1;32min\u001B[0m \u001B[0mtqdm\u001B[0m\u001B[1;33m(\u001B[0m\u001B[0mrange\u001B[0m\u001B[1;33m(\u001B[0m\u001B[1;36m1\u001B[0m\u001B[1;33m,\u001B[0m \u001B[1;36m51\u001B[0m\u001B[1;33m)\u001B[0m\u001B[1;33m)\u001B[0m\u001B[1;33m:\u001B[0m\u001B[1;33m\u001B[0m\u001B[1;33m\u001B[0m\u001B[0m\n\u001B[1;32m---> 36\u001B[1;33m         \u001B[0mX_train\u001B[0m\u001B[1;33m,\u001B[0m \u001B[0mX_test\u001B[0m\u001B[1;33m,\u001B[0m \u001B[0my_train\u001B[0m\u001B[1;33m,\u001B[0m \u001B[0my_test\u001B[0m \u001B[1;33m=\u001B[0m \u001B[0mprepare_datasets\u001B[0m\u001B[1;33m(\u001B[0m\u001B[1;36m0.2\u001B[0m\u001B[1;33m)\u001B[0m\u001B[1;33m\u001B[0m\u001B[1;33m\u001B[0m\u001B[0m\n\u001B[0m\u001B[0;32m     37\u001B[0m         \u001B[0mclf_rbf\u001B[0m \u001B[1;33m=\u001B[0m \u001B[0msvm\u001B[0m\u001B[1;33m.\u001B[0m\u001B[0mSVC\u001B[0m\u001B[1;33m(\u001B[0m\u001B[0mkernel\u001B[0m\u001B[1;33m=\u001B[0m\u001B[1;34m'rbf'\u001B[0m\u001B[1;33m,\u001B[0m \u001B[0mC\u001B[0m\u001B[1;33m=\u001B[0m\u001B[1;36m5\u001B[0m\u001B[1;33m,\u001B[0m \u001B[0mgamma\u001B[0m\u001B[1;33m=\u001B[0m\u001B[1;36m0.001\u001B[0m\u001B[1;33m,\u001B[0m \u001B[0mdecision_function_shape\u001B[0m\u001B[1;33m=\u001B[0m\u001B[1;34m'ovo'\u001B[0m\u001B[1;33m)\u001B[0m\u001B[1;33m\u001B[0m\u001B[1;33m\u001B[0m\u001B[0m\n\u001B[0;32m     38\u001B[0m         \u001B[0mclf_rbf\u001B[0m\u001B[1;33m.\u001B[0m\u001B[0mfit\u001B[0m\u001B[1;33m(\u001B[0m\u001B[0mX_train\u001B[0m\u001B[1;33m,\u001B[0m \u001B[0my_train\u001B[0m\u001B[1;33m)\u001B[0m\u001B[1;33m\u001B[0m\u001B[1;33m\u001B[0m\u001B[0m\n",
      "\u001B[1;32m<ipython-input-5-b44cb822efeb>\u001B[0m in \u001B[0;36mprepare_datasets\u001B[1;34m(test_size)\u001B[0m\n\u001B[0;32m      8\u001B[0m         \u001B[0mavg_mfcc\u001B[0m \u001B[1;33m=\u001B[0m \u001B[1;33m[\u001B[0m\u001B[1;33m]\u001B[0m\u001B[1;33m\u001B[0m\u001B[1;33m\u001B[0m\u001B[0m\n\u001B[0;32m      9\u001B[0m         \u001B[1;32mfor\u001B[0m \u001B[0mj\u001B[0m \u001B[1;32min\u001B[0m \u001B[0mi\u001B[0m\u001B[1;33m:\u001B[0m\u001B[1;33m\u001B[0m\u001B[1;33m\u001B[0m\u001B[0m\n\u001B[1;32m---> 10\u001B[1;33m             \u001B[0mavg_mfcc\u001B[0m\u001B[1;33m.\u001B[0m\u001B[0mappend\u001B[0m\u001B[1;33m(\u001B[0m\u001B[0mj\u001B[0m\u001B[1;33m.\u001B[0m\u001B[0mmean\u001B[0m\u001B[1;33m(\u001B[0m\u001B[1;33m)\u001B[0m\u001B[1;33m)\u001B[0m\u001B[1;33m\u001B[0m\u001B[1;33m\u001B[0m\u001B[0m\n\u001B[0m\u001B[0;32m     11\u001B[0m         \u001B[0mnew_X\u001B[0m\u001B[1;33m.\u001B[0m\u001B[0mappend\u001B[0m\u001B[1;33m(\u001B[0m\u001B[0mavg_mfcc\u001B[0m\u001B[1;33m)\u001B[0m\u001B[1;33m\u001B[0m\u001B[1;33m\u001B[0m\u001B[0m\n\u001B[0;32m     12\u001B[0m     \u001B[0mX\u001B[0m \u001B[1;33m=\u001B[0m \u001B[0mnp\u001B[0m\u001B[1;33m.\u001B[0m\u001B[0marray\u001B[0m\u001B[1;33m(\u001B[0m\u001B[0mnew_X\u001B[0m\u001B[1;33m)\u001B[0m\u001B[1;33m\u001B[0m\u001B[1;33m\u001B[0m\u001B[0m\n",
      "\u001B[1;32m~\\anaconda3\\envs\\speech-emotion-recognition\\lib\\site-packages\\numpy\\core\\_methods.py\u001B[0m in \u001B[0;36m_mean\u001B[1;34m(a, axis, dtype, out, keepdims)\u001B[0m\n\u001B[0;32m    159\u001B[0m             \u001B[0mret\u001B[0m \u001B[1;33m=\u001B[0m \u001B[0marr\u001B[0m\u001B[1;33m.\u001B[0m\u001B[0mdtype\u001B[0m\u001B[1;33m.\u001B[0m\u001B[0mtype\u001B[0m\u001B[1;33m(\u001B[0m\u001B[0mret\u001B[0m \u001B[1;33m/\u001B[0m \u001B[0mrcount\u001B[0m\u001B[1;33m)\u001B[0m\u001B[1;33m\u001B[0m\u001B[1;33m\u001B[0m\u001B[0m\n\u001B[0;32m    160\u001B[0m         \u001B[1;32melse\u001B[0m\u001B[1;33m:\u001B[0m\u001B[1;33m\u001B[0m\u001B[1;33m\u001B[0m\u001B[0m\n\u001B[1;32m--> 161\u001B[1;33m             \u001B[0mret\u001B[0m \u001B[1;33m=\u001B[0m \u001B[0mret\u001B[0m\u001B[1;33m.\u001B[0m\u001B[0mdtype\u001B[0m\u001B[1;33m.\u001B[0m\u001B[0mtype\u001B[0m\u001B[1;33m(\u001B[0m\u001B[0mret\u001B[0m \u001B[1;33m/\u001B[0m \u001B[0mrcount\u001B[0m\u001B[1;33m)\u001B[0m\u001B[1;33m\u001B[0m\u001B[1;33m\u001B[0m\u001B[0m\n\u001B[0m\u001B[0;32m    162\u001B[0m     \u001B[1;32melse\u001B[0m\u001B[1;33m:\u001B[0m\u001B[1;33m\u001B[0m\u001B[1;33m\u001B[0m\u001B[0m\n\u001B[0;32m    163\u001B[0m         \u001B[0mret\u001B[0m \u001B[1;33m=\u001B[0m \u001B[0mret\u001B[0m \u001B[1;33m/\u001B[0m \u001B[0mrcount\u001B[0m\u001B[1;33m\u001B[0m\u001B[1;33m\u001B[0m\u001B[0m\n",
      "\u001B[1;31mKeyboardInterrupt\u001B[0m: "
     ]
    }
   ],
   "source": [
    "run_training_rbf()"
   ],
   "metadata": {
    "collapsed": false,
    "pycharm": {
     "name": "#%%\n"
    }
   }
  },
  {
   "cell_type": "code",
   "execution_count": null,
   "outputs": [],
   "source": [
    "X_train, X_test, y_train, y_test = prepare_datasets(0.2)\n",
    "\n",
    "clf_poly = svm.SVC(kernel='poly', degree=17, decision_function_shape='ovo')\n",
    "# clf = svm.SVC(kernel='rbf', decision_function_shape='ovo') # 0.343\n",
    "clf_rbf = svm.SVC(C=5, kernel='rbf', gamma=0.001, decision_function_shape='ovo')\n",
    "clf_rbf2 = svm.SVC(C=15.7, kernel='rbf', gamma='scale', decision_function_shape='ovo')\n",
    "# # clf = svm.SVC(kernel='rbf', decision_function_shape='ovo') # 0.392\n",
    "clf_poly.fit(X_train, y_train)\n",
    "clf_rbf.fit(X_train, y_train)\n",
    "clf_rbf2.fit(X_train, y_train)\n",
    "#\n",
    "# print(X_test.shape)\n",
    "#\n",
    "y_pred_poly = clf_poly.predict(X_test)\n",
    "y_pred_rbf = clf_rbf.predict(X_test)\n",
    "y_pred_rbf2 = clf_rbf.predict(X_test)\n",
    "\n",
    "print(\"Poly Accuracy: {}\".format(metrics.accuracy_score(y_test, y_pred_poly)))\n",
    "print(\"RBF Accuracy: {}\".format(metrics.accuracy_score(y_test, y_pred_rbf)))\n",
    "print(\"RBF Accuracy2: {}\".format(metrics.accuracy_score(y_test, y_pred_rbf2)))"
   ],
   "metadata": {
    "collapsed": false,
    "pycharm": {
     "name": "#%%\n"
    }
   }
  },
  {
   "cell_type": "code",
   "execution_count": null,
   "outputs": [],
   "source": [
    "from sklearn.model_selection import GridSearchCV\n",
    "from sklearn.metrics import classification_report\n",
    "\n",
    "X_train, X_test, y_train, y_test = prepare_datasets(0.2)\n",
    "\n",
    "# Set the parameters by cross-validation\n",
    "tuned_parameters = [{'kernel': ['rbf'], 'gamma': ['scale', 1e-2, 1e-3, 1e-4],\n",
    "                     'C': [1, 5, 10, 50, 100]},\n",
    "                    # {'kernel': ['poly'], 'gamma': [1e-3, 1e-4], 'degree':[1, 10, 50],\n",
    "                    #  'coef0': [0.0, 0.0001, 0.001, 0.01, 0.1, 1],\n",
    "                    #  'C': [1, 10, 100]}\n",
    "                    ]\n",
    "\n",
    "scores = ['precision', 'recall']\n",
    "\n",
    "for score in scores:\n",
    "    print(\"# Tuning hyper-parameters for %s\" % score)\n",
    "    print()\n",
    "\n",
    "    clf = GridSearchCV(\n",
    "        svm.SVC(), tuned_parameters, scoring='%s_macro' % score\n",
    "    )\n",
    "    clf.fit(X_train, y_train)\n",
    "\n",
    "    print(\"Best parameters set found on development set:\")\n",
    "    print()\n",
    "    print(clf.best_params_)\n",
    "    print()\n",
    "    print(\"Grid scores on development set:\")\n",
    "    print()\n",
    "    means = clf.cv_results_['mean_test_score']\n",
    "    stds = clf.cv_results_['std_test_score']\n",
    "    for mean, std, params in zip(means, stds, clf.cv_results_['params']):\n",
    "        print(\"%0.3f (+/-%0.03f) for %r\"\n",
    "              % (mean, std * 2, params))\n",
    "    print()\n",
    "\n",
    "    print(\"Detailed classification report:\")\n",
    "    print()\n",
    "    print(\"The model is trained on the full development set.\")\n",
    "    print(\"The scores are computed on the full evaluation set.\")\n",
    "    print()\n",
    "    y_true, y_pred = y_test, clf.predict(X_test)\n",
    "    print(classification_report(y_true, y_pred))\n",
    "    print()\n"
   ],
   "metadata": {
    "collapsed": false,
    "pycharm": {
     "name": "#%%\n"
    }
   }
  }
 ],
 "metadata": {
  "kernelspec": {
   "display_name": "Python 3",
   "language": "python",
   "name": "python3"
  },
  "language_info": {
   "codemirror_mode": {
    "name": "ipython",
    "version": 2
   },
   "file_extension": ".py",
   "mimetype": "text/x-python",
   "name": "python",
   "nbconvert_exporter": "python",
   "pygments_lexer": "ipython2",
   "version": "2.7.6"
  }
 },
 "nbformat": 4,
 "nbformat_minor": 0
}